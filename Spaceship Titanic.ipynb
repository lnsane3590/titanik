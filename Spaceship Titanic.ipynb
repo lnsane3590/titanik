{
 "cells": [
  {
   "cell_type": "markdown",
   "id": "9c4ddc6f",
   "metadata": {},
   "source": [
    "PassengerId- Уникальный идентификатор для каждого пассажира. Каждый идентификатор принимает форму gggg_pp, где ggggуказывает группу, с которой путешествует пассажир, и ppявляется их номером в группе. Люди в группе часто являются членами семьи, но не всегда.\n",
    "\n",
    "HomePlanet- Планета, с которой вылетел пассажир, как правило, планета его постоянного проживания.\n",
    "\n",
    "CryoSleep- Указывает, решил ли пассажир быть переведен в режим анабиоза на время рейса. Пассажиры, находящиеся в криосонном состоянии, находятся в своих каютах.\n",
    "\n",
    "Cabin- Номер каюты, в которой находится пассажир. Принимает вид deck/num/side, где sideможет быть либо Pза левый , либо Sза правый борт .\n",
    "\n",
    "Destination- Планета, на которую будет высаживаться пассажир.\n",
    "\n",
    "Age- Возраст пассажира.\n",
    "\n",
    "VIP- Оплатил ли пассажир специальное VIP-обслуживание во время рейса.\n",
    "\n",
    "RoomService, FoodCourt, ShoppingMall, Spa, VRDeck- Сумма, которую пассажир выставил в счет за каждое из многочисленных роскошных удобств космического корабля Титаник .\n",
    "\n",
    "Name- Имя и фамилия пассажира.\n",
    "\n",
    "Transported- Был ли пассажир перенесён в другое измерение. Это цель, столбец, который вы пытаетесь предсказать."
   ]
  },
  {
   "cell_type": "code",
   "execution_count": 154,
   "id": "853af2bf",
   "metadata": {
    "execution": {
     "iopub.execute_input": "2023-06-19T11:33:51.431283Z",
     "iopub.status.busy": "2023-06-19T11:33:51.430926Z",
     "iopub.status.idle": "2023-06-19T11:33:53.164051Z",
     "shell.execute_reply": "2023-06-19T11:33:53.162778Z"
    },
    "papermill": {
     "duration": 1.761942,
     "end_time": "2023-06-19T11:33:53.167059",
     "exception": false,
     "start_time": "2023-06-19T11:33:51.405117",
     "status": "completed"
    },
    "tags": []
   },
   "outputs": [],
   "source": [
    "import numpy as np\n",
    "import pandas as pd\n",
    "import matplotlib.pyplot as plt\n",
    "import seaborn as sns"
   ]
  },
  {
   "cell_type": "markdown",
   "id": "a4eed309",
   "metadata": {
    "papermill": {
     "duration": 0.024372,
     "end_time": "2023-06-19T11:33:53.216300",
     "exception": false,
     "start_time": "2023-06-19T11:33:53.191928",
     "status": "completed"
    },
    "tags": []
   },
   "source": [
    "### Импортируем данные"
   ]
  },
  {
   "cell_type": "code",
   "execution_count": 155,
   "id": "22047c75",
   "metadata": {
    "execution": {
     "iopub.execute_input": "2023-06-19T11:33:53.267267Z",
     "iopub.status.busy": "2023-06-19T11:33:53.266878Z",
     "iopub.status.idle": "2023-06-19T11:33:53.383603Z",
     "shell.execute_reply": "2023-06-19T11:33:53.382202Z"
    },
    "papermill": {
     "duration": 0.145472,
     "end_time": "2023-06-19T11:33:53.386351",
     "exception": false,
     "start_time": "2023-06-19T11:33:53.240879",
     "status": "completed"
    },
    "tags": []
   },
   "outputs": [
    {
     "data": {
      "text/html": [
       "<div>\n",
       "<style scoped>\n",
       "    .dataframe tbody tr th:only-of-type {\n",
       "        vertical-align: middle;\n",
       "    }\n",
       "\n",
       "    .dataframe tbody tr th {\n",
       "        vertical-align: top;\n",
       "    }\n",
       "\n",
       "    .dataframe thead th {\n",
       "        text-align: right;\n",
       "    }\n",
       "</style>\n",
       "<table border=\"1\" class=\"dataframe\">\n",
       "  <thead>\n",
       "    <tr style=\"text-align: right;\">\n",
       "      <th></th>\n",
       "      <th>PassengerId</th>\n",
       "      <th>HomePlanet</th>\n",
       "      <th>CryoSleep</th>\n",
       "      <th>Cabin</th>\n",
       "      <th>Destination</th>\n",
       "      <th>Age</th>\n",
       "      <th>VIP</th>\n",
       "      <th>RoomService</th>\n",
       "      <th>FoodCourt</th>\n",
       "      <th>ShoppingMall</th>\n",
       "      <th>Spa</th>\n",
       "      <th>VRDeck</th>\n",
       "      <th>Name</th>\n",
       "      <th>Transported</th>\n",
       "    </tr>\n",
       "  </thead>\n",
       "  <tbody>\n",
       "    <tr>\n",
       "      <th>0</th>\n",
       "      <td>0001_01</td>\n",
       "      <td>Europa</td>\n",
       "      <td>False</td>\n",
       "      <td>B/0/P</td>\n",
       "      <td>TRAPPIST-1e</td>\n",
       "      <td>39.0</td>\n",
       "      <td>False</td>\n",
       "      <td>0.0</td>\n",
       "      <td>0.0</td>\n",
       "      <td>0.0</td>\n",
       "      <td>0.0</td>\n",
       "      <td>0.0</td>\n",
       "      <td>Maham Ofracculy</td>\n",
       "      <td>False</td>\n",
       "    </tr>\n",
       "    <tr>\n",
       "      <th>1</th>\n",
       "      <td>0002_01</td>\n",
       "      <td>Earth</td>\n",
       "      <td>False</td>\n",
       "      <td>F/0/S</td>\n",
       "      <td>TRAPPIST-1e</td>\n",
       "      <td>24.0</td>\n",
       "      <td>False</td>\n",
       "      <td>109.0</td>\n",
       "      <td>9.0</td>\n",
       "      <td>25.0</td>\n",
       "      <td>549.0</td>\n",
       "      <td>44.0</td>\n",
       "      <td>Juanna Vines</td>\n",
       "      <td>True</td>\n",
       "    </tr>\n",
       "    <tr>\n",
       "      <th>2</th>\n",
       "      <td>0003_01</td>\n",
       "      <td>Europa</td>\n",
       "      <td>False</td>\n",
       "      <td>A/0/S</td>\n",
       "      <td>TRAPPIST-1e</td>\n",
       "      <td>58.0</td>\n",
       "      <td>True</td>\n",
       "      <td>43.0</td>\n",
       "      <td>3576.0</td>\n",
       "      <td>0.0</td>\n",
       "      <td>6715.0</td>\n",
       "      <td>49.0</td>\n",
       "      <td>Altark Susent</td>\n",
       "      <td>False</td>\n",
       "    </tr>\n",
       "    <tr>\n",
       "      <th>3</th>\n",
       "      <td>0003_02</td>\n",
       "      <td>Europa</td>\n",
       "      <td>False</td>\n",
       "      <td>A/0/S</td>\n",
       "      <td>TRAPPIST-1e</td>\n",
       "      <td>33.0</td>\n",
       "      <td>False</td>\n",
       "      <td>0.0</td>\n",
       "      <td>1283.0</td>\n",
       "      <td>371.0</td>\n",
       "      <td>3329.0</td>\n",
       "      <td>193.0</td>\n",
       "      <td>Solam Susent</td>\n",
       "      <td>False</td>\n",
       "    </tr>\n",
       "    <tr>\n",
       "      <th>4</th>\n",
       "      <td>0004_01</td>\n",
       "      <td>Earth</td>\n",
       "      <td>False</td>\n",
       "      <td>F/1/S</td>\n",
       "      <td>TRAPPIST-1e</td>\n",
       "      <td>16.0</td>\n",
       "      <td>False</td>\n",
       "      <td>303.0</td>\n",
       "      <td>70.0</td>\n",
       "      <td>151.0</td>\n",
       "      <td>565.0</td>\n",
       "      <td>2.0</td>\n",
       "      <td>Willy Santantines</td>\n",
       "      <td>True</td>\n",
       "    </tr>\n",
       "  </tbody>\n",
       "</table>\n",
       "</div>"
      ],
      "text/plain": [
       "  PassengerId HomePlanet CryoSleep  Cabin  Destination   Age    VIP  \\\n",
       "0     0001_01     Europa     False  B/0/P  TRAPPIST-1e  39.0  False   \n",
       "1     0002_01      Earth     False  F/0/S  TRAPPIST-1e  24.0  False   \n",
       "2     0003_01     Europa     False  A/0/S  TRAPPIST-1e  58.0   True   \n",
       "3     0003_02     Europa     False  A/0/S  TRAPPIST-1e  33.0  False   \n",
       "4     0004_01      Earth     False  F/1/S  TRAPPIST-1e  16.0  False   \n",
       "\n",
       "   RoomService  FoodCourt  ShoppingMall     Spa  VRDeck               Name  \\\n",
       "0          0.0        0.0           0.0     0.0     0.0    Maham Ofracculy   \n",
       "1        109.0        9.0          25.0   549.0    44.0       Juanna Vines   \n",
       "2         43.0     3576.0           0.0  6715.0    49.0      Altark Susent   \n",
       "3          0.0     1283.0         371.0  3329.0   193.0       Solam Susent   \n",
       "4        303.0       70.0         151.0   565.0     2.0  Willy Santantines   \n",
       "\n",
       "   Transported  \n",
       "0        False  \n",
       "1         True  \n",
       "2        False  \n",
       "3        False  \n",
       "4         True  "
      ]
     },
     "execution_count": 155,
     "metadata": {},
     "output_type": "execute_result"
    }
   ],
   "source": [
    "train_data = pd.read_csv('train.csv')\n",
    "train_data.head()"
   ]
  },
  {
   "cell_type": "code",
   "execution_count": 156,
   "id": "c4502f72",
   "metadata": {
    "execution": {
     "iopub.execute_input": "2023-06-19T11:33:53.438385Z",
     "iopub.status.busy": "2023-06-19T11:33:53.437972Z",
     "iopub.status.idle": "2023-06-19T11:33:53.491746Z",
     "shell.execute_reply": "2023-06-19T11:33:53.490506Z"
    },
    "papermill": {
     "duration": 0.083072,
     "end_time": "2023-06-19T11:33:53.494737",
     "exception": false,
     "start_time": "2023-06-19T11:33:53.411665",
     "status": "completed"
    },
    "tags": []
   },
   "outputs": [
    {
     "data": {
      "text/html": [
       "<div>\n",
       "<style scoped>\n",
       "    .dataframe tbody tr th:only-of-type {\n",
       "        vertical-align: middle;\n",
       "    }\n",
       "\n",
       "    .dataframe tbody tr th {\n",
       "        vertical-align: top;\n",
       "    }\n",
       "\n",
       "    .dataframe thead th {\n",
       "        text-align: right;\n",
       "    }\n",
       "</style>\n",
       "<table border=\"1\" class=\"dataframe\">\n",
       "  <thead>\n",
       "    <tr style=\"text-align: right;\">\n",
       "      <th></th>\n",
       "      <th>PassengerId</th>\n",
       "      <th>HomePlanet</th>\n",
       "      <th>CryoSleep</th>\n",
       "      <th>Cabin</th>\n",
       "      <th>Destination</th>\n",
       "      <th>Age</th>\n",
       "      <th>VIP</th>\n",
       "      <th>RoomService</th>\n",
       "      <th>FoodCourt</th>\n",
       "      <th>ShoppingMall</th>\n",
       "      <th>Spa</th>\n",
       "      <th>VRDeck</th>\n",
       "      <th>Name</th>\n",
       "    </tr>\n",
       "  </thead>\n",
       "  <tbody>\n",
       "    <tr>\n",
       "      <th>0</th>\n",
       "      <td>0013_01</td>\n",
       "      <td>Earth</td>\n",
       "      <td>True</td>\n",
       "      <td>G/3/S</td>\n",
       "      <td>TRAPPIST-1e</td>\n",
       "      <td>27.0</td>\n",
       "      <td>False</td>\n",
       "      <td>0.0</td>\n",
       "      <td>0.0</td>\n",
       "      <td>0.0</td>\n",
       "      <td>0.0</td>\n",
       "      <td>0.0</td>\n",
       "      <td>Nelly Carsoning</td>\n",
       "    </tr>\n",
       "    <tr>\n",
       "      <th>1</th>\n",
       "      <td>0018_01</td>\n",
       "      <td>Earth</td>\n",
       "      <td>False</td>\n",
       "      <td>F/4/S</td>\n",
       "      <td>TRAPPIST-1e</td>\n",
       "      <td>19.0</td>\n",
       "      <td>False</td>\n",
       "      <td>0.0</td>\n",
       "      <td>9.0</td>\n",
       "      <td>0.0</td>\n",
       "      <td>2823.0</td>\n",
       "      <td>0.0</td>\n",
       "      <td>Lerome Peckers</td>\n",
       "    </tr>\n",
       "    <tr>\n",
       "      <th>2</th>\n",
       "      <td>0019_01</td>\n",
       "      <td>Europa</td>\n",
       "      <td>True</td>\n",
       "      <td>C/0/S</td>\n",
       "      <td>55 Cancri e</td>\n",
       "      <td>31.0</td>\n",
       "      <td>False</td>\n",
       "      <td>0.0</td>\n",
       "      <td>0.0</td>\n",
       "      <td>0.0</td>\n",
       "      <td>0.0</td>\n",
       "      <td>0.0</td>\n",
       "      <td>Sabih Unhearfus</td>\n",
       "    </tr>\n",
       "    <tr>\n",
       "      <th>3</th>\n",
       "      <td>0021_01</td>\n",
       "      <td>Europa</td>\n",
       "      <td>False</td>\n",
       "      <td>C/1/S</td>\n",
       "      <td>TRAPPIST-1e</td>\n",
       "      <td>38.0</td>\n",
       "      <td>False</td>\n",
       "      <td>0.0</td>\n",
       "      <td>6652.0</td>\n",
       "      <td>0.0</td>\n",
       "      <td>181.0</td>\n",
       "      <td>585.0</td>\n",
       "      <td>Meratz Caltilter</td>\n",
       "    </tr>\n",
       "    <tr>\n",
       "      <th>4</th>\n",
       "      <td>0023_01</td>\n",
       "      <td>Earth</td>\n",
       "      <td>False</td>\n",
       "      <td>F/5/S</td>\n",
       "      <td>TRAPPIST-1e</td>\n",
       "      <td>20.0</td>\n",
       "      <td>False</td>\n",
       "      <td>10.0</td>\n",
       "      <td>0.0</td>\n",
       "      <td>635.0</td>\n",
       "      <td>0.0</td>\n",
       "      <td>0.0</td>\n",
       "      <td>Brence Harperez</td>\n",
       "    </tr>\n",
       "  </tbody>\n",
       "</table>\n",
       "</div>"
      ],
      "text/plain": [
       "  PassengerId HomePlanet CryoSleep  Cabin  Destination   Age    VIP  \\\n",
       "0     0013_01      Earth      True  G/3/S  TRAPPIST-1e  27.0  False   \n",
       "1     0018_01      Earth     False  F/4/S  TRAPPIST-1e  19.0  False   \n",
       "2     0019_01     Europa      True  C/0/S  55 Cancri e  31.0  False   \n",
       "3     0021_01     Europa     False  C/1/S  TRAPPIST-1e  38.0  False   \n",
       "4     0023_01      Earth     False  F/5/S  TRAPPIST-1e  20.0  False   \n",
       "\n",
       "   RoomService  FoodCourt  ShoppingMall     Spa  VRDeck              Name  \n",
       "0          0.0        0.0           0.0     0.0     0.0   Nelly Carsoning  \n",
       "1          0.0        9.0           0.0  2823.0     0.0    Lerome Peckers  \n",
       "2          0.0        0.0           0.0     0.0     0.0   Sabih Unhearfus  \n",
       "3          0.0     6652.0           0.0   181.0   585.0  Meratz Caltilter  \n",
       "4         10.0        0.0         635.0     0.0     0.0   Brence Harperez  "
      ]
     },
     "execution_count": 156,
     "metadata": {},
     "output_type": "execute_result"
    }
   ],
   "source": [
    "test_data = pd.read_csv('test.csv')\n",
    "test_data.head()"
   ]
  },
  {
   "cell_type": "code",
   "execution_count": 157,
   "id": "45228422",
   "metadata": {
    "execution": {
     "iopub.execute_input": "2023-06-19T11:33:53.547913Z",
     "iopub.status.busy": "2023-06-19T11:33:53.547302Z",
     "iopub.status.idle": "2023-06-19T11:33:53.571249Z",
     "shell.execute_reply": "2023-06-19T11:33:53.570170Z"
    },
    "papermill": {
     "duration": 0.05257,
     "end_time": "2023-06-19T11:33:53.573798",
     "exception": false,
     "start_time": "2023-06-19T11:33:53.521228",
     "status": "completed"
    },
    "tags": []
   },
   "outputs": [],
   "source": [
    "df = train_data.drop(['Transported'], axis=1)\n",
    "df = pd.concat([df, test_data], axis=0).reset_index(drop=True) #train+test всё вместе"
   ]
  },
  {
   "cell_type": "code",
   "execution_count": 158,
   "id": "62e154ae",
   "metadata": {
    "execution": {
     "iopub.execute_input": "2023-06-19T11:33:53.633019Z",
     "iopub.status.busy": "2023-06-19T11:33:53.632161Z",
     "iopub.status.idle": "2023-06-19T11:33:53.656716Z",
     "shell.execute_reply": "2023-06-19T11:33:53.655475Z"
    },
    "papermill": {
     "duration": 0.060956,
     "end_time": "2023-06-19T11:33:53.659863",
     "exception": false,
     "start_time": "2023-06-19T11:33:53.598907",
     "status": "completed"
    },
    "tags": []
   },
   "outputs": [
    {
     "data": {
      "text/html": [
       "<div>\n",
       "<style scoped>\n",
       "    .dataframe tbody tr th:only-of-type {\n",
       "        vertical-align: middle;\n",
       "    }\n",
       "\n",
       "    .dataframe tbody tr th {\n",
       "        vertical-align: top;\n",
       "    }\n",
       "\n",
       "    .dataframe thead th {\n",
       "        text-align: right;\n",
       "    }\n",
       "</style>\n",
       "<table border=\"1\" class=\"dataframe\">\n",
       "  <thead>\n",
       "    <tr style=\"text-align: right;\">\n",
       "      <th></th>\n",
       "      <th>PassengerId</th>\n",
       "      <th>HomePlanet</th>\n",
       "      <th>CryoSleep</th>\n",
       "      <th>Cabin</th>\n",
       "      <th>Destination</th>\n",
       "      <th>Age</th>\n",
       "      <th>VIP</th>\n",
       "      <th>RoomService</th>\n",
       "      <th>FoodCourt</th>\n",
       "      <th>ShoppingMall</th>\n",
       "      <th>Spa</th>\n",
       "      <th>VRDeck</th>\n",
       "      <th>Name</th>\n",
       "    </tr>\n",
       "  </thead>\n",
       "  <tbody>\n",
       "    <tr>\n",
       "      <th>0</th>\n",
       "      <td>0001_01</td>\n",
       "      <td>Europa</td>\n",
       "      <td>False</td>\n",
       "      <td>B/0/P</td>\n",
       "      <td>TRAPPIST-1e</td>\n",
       "      <td>39.0</td>\n",
       "      <td>False</td>\n",
       "      <td>0.0</td>\n",
       "      <td>0.0</td>\n",
       "      <td>0.0</td>\n",
       "      <td>0.0</td>\n",
       "      <td>0.0</td>\n",
       "      <td>Maham Ofracculy</td>\n",
       "    </tr>\n",
       "    <tr>\n",
       "      <th>1</th>\n",
       "      <td>0002_01</td>\n",
       "      <td>Earth</td>\n",
       "      <td>False</td>\n",
       "      <td>F/0/S</td>\n",
       "      <td>TRAPPIST-1e</td>\n",
       "      <td>24.0</td>\n",
       "      <td>False</td>\n",
       "      <td>109.0</td>\n",
       "      <td>9.0</td>\n",
       "      <td>25.0</td>\n",
       "      <td>549.0</td>\n",
       "      <td>44.0</td>\n",
       "      <td>Juanna Vines</td>\n",
       "    </tr>\n",
       "    <tr>\n",
       "      <th>2</th>\n",
       "      <td>0003_01</td>\n",
       "      <td>Europa</td>\n",
       "      <td>False</td>\n",
       "      <td>A/0/S</td>\n",
       "      <td>TRAPPIST-1e</td>\n",
       "      <td>58.0</td>\n",
       "      <td>True</td>\n",
       "      <td>43.0</td>\n",
       "      <td>3576.0</td>\n",
       "      <td>0.0</td>\n",
       "      <td>6715.0</td>\n",
       "      <td>49.0</td>\n",
       "      <td>Altark Susent</td>\n",
       "    </tr>\n",
       "    <tr>\n",
       "      <th>3</th>\n",
       "      <td>0003_02</td>\n",
       "      <td>Europa</td>\n",
       "      <td>False</td>\n",
       "      <td>A/0/S</td>\n",
       "      <td>TRAPPIST-1e</td>\n",
       "      <td>33.0</td>\n",
       "      <td>False</td>\n",
       "      <td>0.0</td>\n",
       "      <td>1283.0</td>\n",
       "      <td>371.0</td>\n",
       "      <td>3329.0</td>\n",
       "      <td>193.0</td>\n",
       "      <td>Solam Susent</td>\n",
       "    </tr>\n",
       "    <tr>\n",
       "      <th>4</th>\n",
       "      <td>0004_01</td>\n",
       "      <td>Earth</td>\n",
       "      <td>False</td>\n",
       "      <td>F/1/S</td>\n",
       "      <td>TRAPPIST-1e</td>\n",
       "      <td>16.0</td>\n",
       "      <td>False</td>\n",
       "      <td>303.0</td>\n",
       "      <td>70.0</td>\n",
       "      <td>151.0</td>\n",
       "      <td>565.0</td>\n",
       "      <td>2.0</td>\n",
       "      <td>Willy Santantines</td>\n",
       "    </tr>\n",
       "  </tbody>\n",
       "</table>\n",
       "</div>"
      ],
      "text/plain": [
       "  PassengerId HomePlanet CryoSleep  Cabin  Destination   Age    VIP  \\\n",
       "0     0001_01     Europa     False  B/0/P  TRAPPIST-1e  39.0  False   \n",
       "1     0002_01      Earth     False  F/0/S  TRAPPIST-1e  24.0  False   \n",
       "2     0003_01     Europa     False  A/0/S  TRAPPIST-1e  58.0   True   \n",
       "3     0003_02     Europa     False  A/0/S  TRAPPIST-1e  33.0  False   \n",
       "4     0004_01      Earth     False  F/1/S  TRAPPIST-1e  16.0  False   \n",
       "\n",
       "   RoomService  FoodCourt  ShoppingMall     Spa  VRDeck               Name  \n",
       "0          0.0        0.0           0.0     0.0     0.0    Maham Ofracculy  \n",
       "1        109.0        9.0          25.0   549.0    44.0       Juanna Vines  \n",
       "2         43.0     3576.0           0.0  6715.0    49.0      Altark Susent  \n",
       "3          0.0     1283.0         371.0  3329.0   193.0       Solam Susent  \n",
       "4        303.0       70.0         151.0   565.0     2.0  Willy Santantines  "
      ]
     },
     "execution_count": 158,
     "metadata": {},
     "output_type": "execute_result"
    }
   ],
   "source": [
    "df.head()"
   ]
  },
  {
   "cell_type": "code",
   "execution_count": 159,
   "id": "c0f38639",
   "metadata": {
    "execution": {
     "iopub.execute_input": "2023-06-19T11:33:53.713683Z",
     "iopub.status.busy": "2023-06-19T11:33:53.712887Z",
     "iopub.status.idle": "2023-06-19T11:33:53.719592Z",
     "shell.execute_reply": "2023-06-19T11:33:53.718065Z"
    },
    "papermill": {
     "duration": 0.036963,
     "end_time": "2023-06-19T11:33:53.722250",
     "exception": false,
     "start_time": "2023-06-19T11:33:53.685287",
     "status": "completed"
    },
    "tags": []
   },
   "outputs": [
    {
     "name": "stdout",
     "output_type": "stream",
     "text": [
      "(8693, 14) (4277, 13) (12970, 13)\n"
     ]
    }
   ],
   "source": [
    "print(train_data.shape, test_data.shape, df.shape)"
   ]
  },
  {
   "cell_type": "code",
   "execution_count": 160,
   "id": "4e1710fd",
   "metadata": {
    "execution": {
     "iopub.execute_input": "2023-06-19T11:33:53.774016Z",
     "iopub.status.busy": "2023-06-19T11:33:53.773601Z",
     "iopub.status.idle": "2023-06-19T11:33:53.780284Z",
     "shell.execute_reply": "2023-06-19T11:33:53.779159Z"
    },
    "papermill": {
     "duration": 0.035684,
     "end_time": "2023-06-19T11:33:53.782759",
     "exception": false,
     "start_time": "2023-06-19T11:33:53.747075",
     "status": "completed"
    },
    "tags": []
   },
   "outputs": [
    {
     "data": {
      "text/plain": [
       "8693"
      ]
     },
     "execution_count": 160,
     "metadata": {},
     "output_type": "execute_result"
    }
   ],
   "source": [
    "train_max = train_data.shape[0] \n",
    "train_max"
   ]
  },
  {
   "cell_type": "markdown",
   "id": "6a12a812",
   "metadata": {
    "papermill": {
     "duration": 0.025438,
     "end_time": "2023-06-19T11:33:53.834087",
     "exception": false,
     "start_time": "2023-06-19T11:33:53.808649",
     "status": "completed"
    },
    "tags": []
   },
   "source": [
    "# Анализ данных"
   ]
  },
  {
   "cell_type": "code",
   "execution_count": 162,
   "id": "151bbaaa",
   "metadata": {
    "execution": {
     "iopub.execute_input": "2023-06-19T11:33:53.887715Z",
     "iopub.status.busy": "2023-06-19T11:33:53.886958Z",
     "iopub.status.idle": "2023-06-19T11:33:53.939879Z",
     "shell.execute_reply": "2023-06-19T11:33:53.938336Z"
    },
    "papermill": {
     "duration": 0.082914,
     "end_time": "2023-06-19T11:33:53.942560",
     "exception": false,
     "start_time": "2023-06-19T11:33:53.859646",
     "status": "completed"
    },
    "tags": []
   },
   "outputs": [
    {
     "name": "stdout",
     "output_type": "stream",
     "text": [
      "<class 'pandas.core.frame.DataFrame'>\n",
      "RangeIndex: 12970 entries, 0 to 12969\n",
      "Data columns (total 13 columns):\n",
      " #   Column        Non-Null Count  Dtype  \n",
      "---  ------        --------------  -----  \n",
      " 0   PassengerId   12970 non-null  object \n",
      " 1   HomePlanet    12682 non-null  object \n",
      " 2   CryoSleep     12660 non-null  object \n",
      " 3   Cabin         12671 non-null  object \n",
      " 4   Destination   12696 non-null  object \n",
      " 5   Age           12700 non-null  float64\n",
      " 6   VIP           12674 non-null  object \n",
      " 7   RoomService   12707 non-null  float64\n",
      " 8   FoodCourt     12681 non-null  float64\n",
      " 9   ShoppingMall  12664 non-null  float64\n",
      " 10  Spa           12686 non-null  float64\n",
      " 11  VRDeck        12702 non-null  float64\n",
      " 12  Name          12676 non-null  object \n",
      "dtypes: float64(6), object(7)\n",
      "memory usage: 1.3+ MB\n"
     ]
    }
   ],
   "source": [
    "df.info()"
   ]
  },
  {
   "cell_type": "code",
   "execution_count": 163,
   "id": "6caf5683",
   "metadata": {
    "execution": {
     "iopub.execute_input": "2023-06-19T11:33:53.998379Z",
     "iopub.status.busy": "2023-06-19T11:33:53.997101Z",
     "iopub.status.idle": "2023-06-19T11:33:54.039145Z",
     "shell.execute_reply": "2023-06-19T11:33:54.037758Z"
    },
    "papermill": {
     "duration": 0.073565,
     "end_time": "2023-06-19T11:33:54.041883",
     "exception": false,
     "start_time": "2023-06-19T11:33:53.968318",
     "status": "completed"
    },
    "tags": []
   },
   "outputs": [
    {
     "data": {
      "text/html": [
       "<div>\n",
       "<style scoped>\n",
       "    .dataframe tbody tr th:only-of-type {\n",
       "        vertical-align: middle;\n",
       "    }\n",
       "\n",
       "    .dataframe tbody tr th {\n",
       "        vertical-align: top;\n",
       "    }\n",
       "\n",
       "    .dataframe thead th {\n",
       "        text-align: right;\n",
       "    }\n",
       "</style>\n",
       "<table border=\"1\" class=\"dataframe\">\n",
       "  <thead>\n",
       "    <tr style=\"text-align: right;\">\n",
       "      <th></th>\n",
       "      <th>Age</th>\n",
       "      <th>RoomService</th>\n",
       "      <th>FoodCourt</th>\n",
       "      <th>ShoppingMall</th>\n",
       "      <th>Spa</th>\n",
       "      <th>VRDeck</th>\n",
       "    </tr>\n",
       "  </thead>\n",
       "  <tbody>\n",
       "    <tr>\n",
       "      <th>count</th>\n",
       "      <td>8514.000000</td>\n",
       "      <td>8512.000000</td>\n",
       "      <td>8510.000000</td>\n",
       "      <td>8485.000000</td>\n",
       "      <td>8510.000000</td>\n",
       "      <td>8505.000000</td>\n",
       "    </tr>\n",
       "    <tr>\n",
       "      <th>mean</th>\n",
       "      <td>28.827930</td>\n",
       "      <td>224.687617</td>\n",
       "      <td>458.077203</td>\n",
       "      <td>173.729169</td>\n",
       "      <td>311.138778</td>\n",
       "      <td>304.854791</td>\n",
       "    </tr>\n",
       "    <tr>\n",
       "      <th>std</th>\n",
       "      <td>14.489021</td>\n",
       "      <td>666.717663</td>\n",
       "      <td>1611.489240</td>\n",
       "      <td>604.696458</td>\n",
       "      <td>1136.705535</td>\n",
       "      <td>1145.717189</td>\n",
       "    </tr>\n",
       "    <tr>\n",
       "      <th>min</th>\n",
       "      <td>0.000000</td>\n",
       "      <td>0.000000</td>\n",
       "      <td>0.000000</td>\n",
       "      <td>0.000000</td>\n",
       "      <td>0.000000</td>\n",
       "      <td>0.000000</td>\n",
       "    </tr>\n",
       "    <tr>\n",
       "      <th>25%</th>\n",
       "      <td>19.000000</td>\n",
       "      <td>0.000000</td>\n",
       "      <td>0.000000</td>\n",
       "      <td>0.000000</td>\n",
       "      <td>0.000000</td>\n",
       "      <td>0.000000</td>\n",
       "    </tr>\n",
       "    <tr>\n",
       "      <th>50%</th>\n",
       "      <td>27.000000</td>\n",
       "      <td>0.000000</td>\n",
       "      <td>0.000000</td>\n",
       "      <td>0.000000</td>\n",
       "      <td>0.000000</td>\n",
       "      <td>0.000000</td>\n",
       "    </tr>\n",
       "    <tr>\n",
       "      <th>75%</th>\n",
       "      <td>38.000000</td>\n",
       "      <td>47.000000</td>\n",
       "      <td>76.000000</td>\n",
       "      <td>27.000000</td>\n",
       "      <td>59.000000</td>\n",
       "      <td>46.000000</td>\n",
       "    </tr>\n",
       "    <tr>\n",
       "      <th>max</th>\n",
       "      <td>79.000000</td>\n",
       "      <td>14327.000000</td>\n",
       "      <td>29813.000000</td>\n",
       "      <td>23492.000000</td>\n",
       "      <td>22408.000000</td>\n",
       "      <td>24133.000000</td>\n",
       "    </tr>\n",
       "  </tbody>\n",
       "</table>\n",
       "</div>"
      ],
      "text/plain": [
       "               Age   RoomService     FoodCourt  ShoppingMall           Spa  \\\n",
       "count  8514.000000   8512.000000   8510.000000   8485.000000   8510.000000   \n",
       "mean     28.827930    224.687617    458.077203    173.729169    311.138778   \n",
       "std      14.489021    666.717663   1611.489240    604.696458   1136.705535   \n",
       "min       0.000000      0.000000      0.000000      0.000000      0.000000   \n",
       "25%      19.000000      0.000000      0.000000      0.000000      0.000000   \n",
       "50%      27.000000      0.000000      0.000000      0.000000      0.000000   \n",
       "75%      38.000000     47.000000     76.000000     27.000000     59.000000   \n",
       "max      79.000000  14327.000000  29813.000000  23492.000000  22408.000000   \n",
       "\n",
       "             VRDeck  \n",
       "count   8505.000000  \n",
       "mean     304.854791  \n",
       "std     1145.717189  \n",
       "min        0.000000  \n",
       "25%        0.000000  \n",
       "50%        0.000000  \n",
       "75%       46.000000  \n",
       "max    24133.000000  "
      ]
     },
     "execution_count": 163,
     "metadata": {},
     "output_type": "execute_result"
    }
   ],
   "source": [
    "train_data.describe()"
   ]
  },
  {
   "cell_type": "code",
   "execution_count": 164,
   "id": "cc3371c3",
   "metadata": {
    "execution": {
     "iopub.execute_input": "2023-06-19T11:33:54.100916Z",
     "iopub.status.busy": "2023-06-19T11:33:54.100033Z",
     "iopub.status.idle": "2023-06-19T11:33:54.115925Z",
     "shell.execute_reply": "2023-06-19T11:33:54.114804Z"
    },
    "papermill": {
     "duration": 0.049671,
     "end_time": "2023-06-19T11:33:54.118913",
     "exception": false,
     "start_time": "2023-06-19T11:33:54.069242",
     "status": "completed"
    },
    "tags": []
   },
   "outputs": [
    {
     "data": {
      "text/plain": [
       "Transported     1.000000\n",
       "FoodCourt       0.046566\n",
       "ShoppingMall    0.010141\n",
       "Age            -0.075026\n",
       "VRDeck         -0.207075\n",
       "Spa            -0.221131\n",
       "RoomService    -0.244611\n",
       "Name: Transported, dtype: float64"
      ]
     },
     "execution_count": 164,
     "metadata": {},
     "output_type": "execute_result"
    }
   ],
   "source": [
    "#посмотрим корреляцию между числовыми значениями и переменной Transported.\n",
    "train_data.select_dtypes(exclude = [\"object\"]).corr()['Transported'].sort_values(ascending=False)"
   ]
  },
  {
   "cell_type": "code",
   "execution_count": 165,
   "id": "de71c87b",
   "metadata": {
    "execution": {
     "iopub.execute_input": "2023-06-19T11:33:54.175123Z",
     "iopub.status.busy": "2023-06-19T11:33:54.174380Z",
     "iopub.status.idle": "2023-06-19T11:33:54.182188Z",
     "shell.execute_reply": "2023-06-19T11:33:54.181312Z"
    },
    "papermill": {
     "duration": 0.040091,
     "end_time": "2023-06-19T11:33:54.185598",
     "exception": false,
     "start_time": "2023-06-19T11:33:54.145507",
     "status": "completed"
    },
    "tags": []
   },
   "outputs": [
    {
     "data": {
      "text/plain": [
       "Index(['PassengerId', 'HomePlanet', 'CryoSleep', 'Cabin', 'Destination', 'VIP',\n",
       "       'Name'],\n",
       "      dtype='object')"
      ]
     },
     "execution_count": 165,
     "metadata": {},
     "output_type": "execute_result"
    }
   ],
   "source": [
    "cat_feat = train_data.select_dtypes(include = [\"object\"]).columns\n",
    "cat_feat"
   ]
  },
  {
   "cell_type": "code",
   "execution_count": 166,
   "id": "05cd11dd",
   "metadata": {
    "execution": {
     "iopub.execute_input": "2023-06-19T11:33:54.260670Z",
     "iopub.status.busy": "2023-06-19T11:33:54.260249Z",
     "iopub.status.idle": "2023-06-19T11:33:55.417215Z",
     "shell.execute_reply": "2023-06-19T11:33:55.415883Z"
    },
    "papermill": {
     "duration": 1.193116,
     "end_time": "2023-06-19T11:33:55.420079",
     "exception": false,
     "start_time": "2023-06-19T11:33:54.226963",
     "status": "completed"
    },
    "tags": []
   },
   "outputs": [
    {
     "data": {
      "image/png": "[encoded data removed]",
      "text/plain": [
       "<Figure size 432x288 with 1 Axes>"
      ]
     },
     "metadata": {
      "needs_background": "light"
     },
     "output_type": "display_data"
    },
    {
     "data": {
      "image/png": "[encoded data removed]",
      "text/plain": [
       "<Figure size 432x288 with 1 Axes>"
      ]
     },
     "metadata": {
      "needs_background": "light"
     },
     "output_type": "display_data"
    },
    {
     "data": {
      "image/png": "[encoded data removed]",
      "text/plain": [
       "<Figure size 432x288 with 1 Axes>"
      ]
     },
     "metadata": {
      "needs_background": "light"
     },
     "output_type": "display_data"
    },
    {
     "data": {
      "image/png": "[encoded data removed]",
      "text/plain": [
       "<Figure size 432x288 with 1 Axes>"
      ]
     },
     "metadata": {
      "needs_background": "light"
     },
     "output_type": "display_data"
    }
   ],
   "source": [
    "cat_list = ['HomePlanet', 'CryoSleep', 'Destination', 'VIP']\n",
    "for feat in cat_list:\n",
    "    sns.countplot(x=feat, hue='Transported', data=train_data)\n",
    "    plt.show()"
   ]
  },
  {
   "cell_type": "code",
   "execution_count": 167,
   "id": "cb959336",
   "metadata": {
    "execution": {
     "iopub.execute_input": "2023-06-19T11:33:55.478622Z",
     "iopub.status.busy": "2023-06-19T11:33:55.477877Z",
     "iopub.status.idle": "2023-06-19T11:33:57.501588Z",
     "shell.execute_reply": "2023-06-19T11:33:57.500592Z"
    },
    "papermill": {
     "duration": 2.056289,
     "end_time": "2023-06-19T11:33:57.504518",
     "exception": false,
     "start_time": "2023-06-19T11:33:55.448229",
     "status": "completed"
    },
    "tags": []
   },
   "outputs": [
    {
     "data": {
      "text/plain": [
       "array([[<AxesSubplot:title={'center':'Age'}>,\n",
       "        <AxesSubplot:title={'center':'RoomService'}>],\n",
       "       [<AxesSubplot:title={'center':'FoodCourt'}>,\n",
       "        <AxesSubplot:title={'center':'ShoppingMall'}>],\n",
       "       [<AxesSubplot:title={'center':'Spa'}>,\n",
       "        <AxesSubplot:title={'center':'VRDeck'}>]], dtype=object)"
      ]
     },
     "execution_count": 167,
     "metadata": {},
     "output_type": "execute_result"
    },
    {
     "data": {
      "image/png": "[encoded data removed]",
      "text/plain": [
       "<Figure size 1152x1440 with 6 Axes>"
      ]
     },
     "metadata": {
      "needs_background": "light"
     },
     "output_type": "display_data"
    }
   ],
   "source": [
    "train_data[train_data.select_dtypes(exclude = [\"object\"]).columns.tolist()].hist(figsize=(16, 20), xlabelsize=8, ylabelsize=8)"
   ]
  },
  {
   "cell_type": "code",
   "execution_count": 168,
   "id": "c1595fc6",
   "metadata": {
    "execution": {
     "iopub.execute_input": "2023-06-19T11:33:57.625791Z",
     "iopub.status.busy": "2023-06-19T11:33:57.625094Z",
     "iopub.status.idle": "2023-06-19T11:33:57.635467Z",
     "shell.execute_reply": "2023-06-19T11:33:57.634121Z"
    },
    "papermill": {
     "duration": 0.043705,
     "end_time": "2023-06-19T11:33:57.638134",
     "exception": false,
     "start_time": "2023-06-19T11:33:57.594429",
     "status": "completed"
    },
    "tags": []
   },
   "outputs": [
    {
     "data": {
      "text/plain": [
       "Transported\n",
       "True     4378\n",
       "False    4315\n",
       "Name: count, dtype: int64"
      ]
     },
     "execution_count": 168,
     "metadata": {},
     "output_type": "execute_result"
    }
   ],
   "source": [
    "train_data['Transported'].value_counts()"
   ]
  },
  {
   "cell_type": "code",
   "execution_count": 169,
   "id": "0a70410c",
   "metadata": {
    "execution": {
     "iopub.execute_input": "2023-06-19T11:33:57.699356Z",
     "iopub.status.busy": "2023-06-19T11:33:57.698898Z",
     "iopub.status.idle": "2023-06-19T11:33:57.739142Z",
     "shell.execute_reply": "2023-06-19T11:33:57.737658Z"
    },
    "papermill": {
     "duration": 0.074488,
     "end_time": "2023-06-19T11:33:57.742095",
     "exception": false,
     "start_time": "2023-06-19T11:33:57.667607",
     "status": "completed"
    },
    "tags": []
   },
   "outputs": [
    {
     "data": {
      "text/plain": [
       "PassengerId       0\n",
       "HomePlanet      288\n",
       "CryoSleep       310\n",
       "Cabin           299\n",
       "Destination     274\n",
       "Age             270\n",
       "VIP             296\n",
       "RoomService     263\n",
       "FoodCourt       289\n",
       "ShoppingMall    306\n",
       "Spa             284\n",
       "VRDeck          268\n",
       "Name            294\n",
       "dtype: int64"
      ]
     },
     "execution_count": 169,
     "metadata": {},
     "output_type": "execute_result"
    }
   ],
   "source": [
    "df.isna().sum()"
   ]
  },
  {
   "cell_type": "code",
   "execution_count": 170,
   "id": "323f3f8e",
   "metadata": {
    "execution": {
     "iopub.execute_input": "2023-06-19T11:33:57.804019Z",
     "iopub.status.busy": "2023-06-19T11:33:57.803531Z",
     "iopub.status.idle": "2023-06-19T11:33:57.838837Z",
     "shell.execute_reply": "2023-06-19T11:33:57.837638Z"
    },
    "papermill": {
     "duration": 0.069665,
     "end_time": "2023-06-19T11:33:57.841411",
     "exception": false,
     "start_time": "2023-06-19T11:33:57.771746",
     "status": "completed"
    },
    "tags": []
   },
   "outputs": [
    {
     "data": {
      "text/html": [
       "<div>\n",
       "<style scoped>\n",
       "    .dataframe tbody tr th:only-of-type {\n",
       "        vertical-align: middle;\n",
       "    }\n",
       "\n",
       "    .dataframe tbody tr th {\n",
       "        vertical-align: top;\n",
       "    }\n",
       "\n",
       "    .dataframe thead th {\n",
       "        text-align: right;\n",
       "    }\n",
       "</style>\n",
       "<table border=\"1\" class=\"dataframe\">\n",
       "  <thead>\n",
       "    <tr style=\"text-align: right;\">\n",
       "      <th></th>\n",
       "      <th>PassengerId</th>\n",
       "      <th>HomePlanet</th>\n",
       "      <th>CryoSleep</th>\n",
       "      <th>Cabin</th>\n",
       "      <th>Destination</th>\n",
       "      <th>Age</th>\n",
       "      <th>VIP</th>\n",
       "      <th>RoomService</th>\n",
       "      <th>FoodCourt</th>\n",
       "      <th>ShoppingMall</th>\n",
       "      <th>Spa</th>\n",
       "      <th>VRDeck</th>\n",
       "      <th>Name</th>\n",
       "    </tr>\n",
       "  </thead>\n",
       "  <tbody>\n",
       "    <tr>\n",
       "      <th>59</th>\n",
       "      <td>0064_02</td>\n",
       "      <td>NaN</td>\n",
       "      <td>True</td>\n",
       "      <td>E/3/S</td>\n",
       "      <td>TRAPPIST-1e</td>\n",
       "      <td>33.0</td>\n",
       "      <td>False</td>\n",
       "      <td>0.0</td>\n",
       "      <td>0.0</td>\n",
       "      <td>NaN</td>\n",
       "      <td>0.0</td>\n",
       "      <td>0.0</td>\n",
       "      <td>Colatz Keen</td>\n",
       "    </tr>\n",
       "    <tr>\n",
       "      <th>113</th>\n",
       "      <td>0119_01</td>\n",
       "      <td>NaN</td>\n",
       "      <td>False</td>\n",
       "      <td>A/0/P</td>\n",
       "      <td>TRAPPIST-1e</td>\n",
       "      <td>39.0</td>\n",
       "      <td>False</td>\n",
       "      <td>0.0</td>\n",
       "      <td>2344.0</td>\n",
       "      <td>0.0</td>\n",
       "      <td>65.0</td>\n",
       "      <td>6898.0</td>\n",
       "      <td>Batan Coning</td>\n",
       "    </tr>\n",
       "    <tr>\n",
       "      <th>186</th>\n",
       "      <td>0210_01</td>\n",
       "      <td>NaN</td>\n",
       "      <td>True</td>\n",
       "      <td>D/6/P</td>\n",
       "      <td>55 Cancri e</td>\n",
       "      <td>24.0</td>\n",
       "      <td>False</td>\n",
       "      <td>0.0</td>\n",
       "      <td>0.0</td>\n",
       "      <td>NaN</td>\n",
       "      <td>0.0</td>\n",
       "      <td>0.0</td>\n",
       "      <td>Arraid Inicont</td>\n",
       "    </tr>\n",
       "    <tr>\n",
       "      <th>225</th>\n",
       "      <td>0242_01</td>\n",
       "      <td>NaN</td>\n",
       "      <td>False</td>\n",
       "      <td>F/46/S</td>\n",
       "      <td>TRAPPIST-1e</td>\n",
       "      <td>18.0</td>\n",
       "      <td>False</td>\n",
       "      <td>313.0</td>\n",
       "      <td>1.0</td>\n",
       "      <td>691.0</td>\n",
       "      <td>283.0</td>\n",
       "      <td>0.0</td>\n",
       "      <td>Almone Sté</td>\n",
       "    </tr>\n",
       "    <tr>\n",
       "      <th>234</th>\n",
       "      <td>0251_01</td>\n",
       "      <td>NaN</td>\n",
       "      <td>True</td>\n",
       "      <td>C/11/S</td>\n",
       "      <td>55 Cancri e</td>\n",
       "      <td>54.0</td>\n",
       "      <td>False</td>\n",
       "      <td>0.0</td>\n",
       "      <td>0.0</td>\n",
       "      <td>0.0</td>\n",
       "      <td>0.0</td>\n",
       "      <td>0.0</td>\n",
       "      <td>Diphah Amsive</td>\n",
       "    </tr>\n",
       "    <tr>\n",
       "      <th>...</th>\n",
       "      <td>...</td>\n",
       "      <td>...</td>\n",
       "      <td>...</td>\n",
       "      <td>...</td>\n",
       "      <td>...</td>\n",
       "      <td>...</td>\n",
       "      <td>...</td>\n",
       "      <td>...</td>\n",
       "      <td>...</td>\n",
       "      <td>...</td>\n",
       "      <td>...</td>\n",
       "      <td>...</td>\n",
       "      <td>...</td>\n",
       "    </tr>\n",
       "    <tr>\n",
       "      <th>12650</th>\n",
       "      <td>8621_01</td>\n",
       "      <td>NaN</td>\n",
       "      <td>False</td>\n",
       "      <td>E/552/P</td>\n",
       "      <td>TRAPPIST-1e</td>\n",
       "      <td>19.0</td>\n",
       "      <td>False</td>\n",
       "      <td>4.0</td>\n",
       "      <td>0.0</td>\n",
       "      <td>1604.0</td>\n",
       "      <td>0.0</td>\n",
       "      <td>0.0</td>\n",
       "      <td>Vanley Simmonders</td>\n",
       "    </tr>\n",
       "    <tr>\n",
       "      <th>12673</th>\n",
       "      <td>8678_01</td>\n",
       "      <td>NaN</td>\n",
       "      <td>True</td>\n",
       "      <td>G/1399/S</td>\n",
       "      <td>55 Cancri e</td>\n",
       "      <td>9.0</td>\n",
       "      <td>False</td>\n",
       "      <td>0.0</td>\n",
       "      <td>0.0</td>\n",
       "      <td>0.0</td>\n",
       "      <td>0.0</td>\n",
       "      <td>0.0</td>\n",
       "      <td>Eilan Kellson</td>\n",
       "    </tr>\n",
       "    <tr>\n",
       "      <th>12725</th>\n",
       "      <td>8775_01</td>\n",
       "      <td>NaN</td>\n",
       "      <td>True</td>\n",
       "      <td>D/275/P</td>\n",
       "      <td>TRAPPIST-1e</td>\n",
       "      <td>40.0</td>\n",
       "      <td>False</td>\n",
       "      <td>0.0</td>\n",
       "      <td>0.0</td>\n",
       "      <td>0.0</td>\n",
       "      <td>0.0</td>\n",
       "      <td>0.0</td>\n",
       "      <td>Raston Maltorted</td>\n",
       "    </tr>\n",
       "    <tr>\n",
       "      <th>12852</th>\n",
       "      <td>9025_01</td>\n",
       "      <td>NaN</td>\n",
       "      <td>False</td>\n",
       "      <td>G/1454/S</td>\n",
       "      <td>TRAPPIST-1e</td>\n",
       "      <td>42.0</td>\n",
       "      <td>False</td>\n",
       "      <td>0.0</td>\n",
       "      <td>0.0</td>\n",
       "      <td>28.0</td>\n",
       "      <td>726.0</td>\n",
       "      <td>0.0</td>\n",
       "      <td>Ale Whitersone</td>\n",
       "    </tr>\n",
       "    <tr>\n",
       "      <th>12906</th>\n",
       "      <td>9146_01</td>\n",
       "      <td>NaN</td>\n",
       "      <td>False</td>\n",
       "      <td>F/1874/P</td>\n",
       "      <td>TRAPPIST-1e</td>\n",
       "      <td>52.0</td>\n",
       "      <td>False</td>\n",
       "      <td>994.0</td>\n",
       "      <td>0.0</td>\n",
       "      <td>173.0</td>\n",
       "      <td>0.0</td>\n",
       "      <td>24.0</td>\n",
       "      <td>Rionk Sache</td>\n",
       "    </tr>\n",
       "  </tbody>\n",
       "</table>\n",
       "<p>288 rows × 13 columns</p>\n",
       "</div>"
      ],
      "text/plain": [
       "      PassengerId HomePlanet CryoSleep     Cabin  Destination   Age    VIP  \\\n",
       "59        0064_02        NaN      True     E/3/S  TRAPPIST-1e  33.0  False   \n",
       "113       0119_01        NaN     False     A/0/P  TRAPPIST-1e  39.0  False   \n",
       "186       0210_01        NaN      True     D/6/P  55 Cancri e  24.0  False   \n",
       "225       0242_01        NaN     False    F/46/S  TRAPPIST-1e  18.0  False   \n",
       "234       0251_01        NaN      True    C/11/S  55 Cancri e  54.0  False   \n",
       "...           ...        ...       ...       ...          ...   ...    ...   \n",
       "12650     8621_01        NaN     False   E/552/P  TRAPPIST-1e  19.0  False   \n",
       "12673     8678_01        NaN      True  G/1399/S  55 Cancri e   9.0  False   \n",
       "12725     8775_01        NaN      True   D/275/P  TRAPPIST-1e  40.0  False   \n",
       "12852     9025_01        NaN     False  G/1454/S  TRAPPIST-1e  42.0  False   \n",
       "12906     9146_01        NaN     False  F/1874/P  TRAPPIST-1e  52.0  False   \n",
       "\n",
       "       RoomService  FoodCourt  ShoppingMall    Spa  VRDeck               Name  \n",
       "59             0.0        0.0           NaN    0.0     0.0        Colatz Keen  \n",
       "113            0.0     2344.0           0.0   65.0  6898.0       Batan Coning  \n",
       "186            0.0        0.0           NaN    0.0     0.0     Arraid Inicont  \n",
       "225          313.0        1.0         691.0  283.0     0.0         Almone Sté  \n",
       "234            0.0        0.0           0.0    0.0     0.0      Diphah Amsive  \n",
       "...            ...        ...           ...    ...     ...                ...  \n",
       "12650          4.0        0.0        1604.0    0.0     0.0  Vanley Simmonders  \n",
       "12673          0.0        0.0           0.0    0.0     0.0      Eilan Kellson  \n",
       "12725          0.0        0.0           0.0    0.0     0.0   Raston Maltorted  \n",
       "12852          0.0        0.0          28.0  726.0     0.0     Ale Whitersone  \n",
       "12906        994.0        0.0         173.0    0.0    24.0        Rionk Sache  \n",
       "\n",
       "[288 rows x 13 columns]"
      ]
     },
     "execution_count": 170,
     "metadata": {},
     "output_type": "execute_result"
    }
   ],
   "source": [
    "df[df['HomePlanet'].isna()]"
   ]
  },
  {
   "cell_type": "code",
   "execution_count": 171,
   "id": "f51b5482",
   "metadata": {
    "execution": {
     "iopub.execute_input": "2023-06-19T11:33:57.904052Z",
     "iopub.status.busy": "2023-06-19T11:33:57.903559Z",
     "iopub.status.idle": "2023-06-19T11:33:59.048080Z",
     "shell.execute_reply": "2023-06-19T11:33:59.046525Z"
    },
    "papermill": {
     "duration": 1.179315,
     "end_time": "2023-06-19T11:33:59.050974",
     "exception": false,
     "start_time": "2023-06-19T11:33:57.871659",
     "status": "completed"
    },
    "tags": []
   },
   "outputs": [],
   "source": [
    "df['Group'] = df['PassengerId'] #из ID можно получить информацию, например, номер группы пассажира \n",
    "for i, group in enumerate(df['PassengerId']):\n",
    "    df.loc[i, 'Group'] = group.split('_')[0]"
   ]
  },
  {
   "cell_type": "code",
   "execution_count": 172,
   "id": "053c1eaf",
   "metadata": {
    "execution": {
     "iopub.execute_input": "2023-06-19T11:33:59.113565Z",
     "iopub.status.busy": "2023-06-19T11:33:59.113114Z",
     "iopub.status.idle": "2023-06-19T11:34:00.248466Z",
     "shell.execute_reply": "2023-06-19T11:34:00.247029Z"
    },
    "papermill": {
     "duration": 1.169966,
     "end_time": "2023-06-19T11:34:00.251699",
     "exception": false,
     "start_time": "2023-06-19T11:33:59.081733",
     "status": "completed"
    },
    "tags": []
   },
   "outputs": [],
   "source": [
    "df['Num'] = df['PassengerId'] #кроме того, ID имеет информацию о кол-ве человек в группе\n",
    "for i, num in enumerate(df['PassengerId']):\n",
    "    df.loc[i, 'Num'] = num.split('_')[1]"
   ]
  },
  {
   "cell_type": "code",
   "execution_count": 173,
   "id": "ff0b0ddf",
   "metadata": {
    "execution": {
     "iopub.execute_input": "2023-06-19T11:34:00.315763Z",
     "iopub.status.busy": "2023-06-19T11:34:00.315289Z",
     "iopub.status.idle": "2023-06-19T11:34:01.478466Z",
     "shell.execute_reply": "2023-06-19T11:34:01.477241Z"
    },
    "papermill": {
     "duration": 1.199442,
     "end_time": "2023-06-19T11:34:01.481535",
     "exception": false,
     "start_time": "2023-06-19T11:34:00.282093",
     "status": "completed"
    },
    "tags": []
   },
   "outputs": [],
   "source": [
    "df['Surname'] = df['Name']\n",
    "for i, name in enumerate(df['Name']):\n",
    "    if pd.isna(name) == False:\n",
    "        df.loc[i, 'Surname'] = name.split()[1]"
   ]
  },
  {
   "cell_type": "code",
   "execution_count": 174,
   "id": "e43c3a4b",
   "metadata": {
    "execution": {
     "iopub.execute_input": "2023-06-19T11:34:01.543752Z",
     "iopub.status.busy": "2023-06-19T11:34:01.543354Z",
     "iopub.status.idle": "2023-06-19T11:34:02.997857Z",
     "shell.execute_reply": "2023-06-19T11:34:02.996093Z"
    },
    "papermill": {
     "duration": 1.489322,
     "end_time": "2023-06-19T11:34:03.000867",
     "exception": false,
     "start_time": "2023-06-19T11:34:01.511545",
     "status": "completed"
    },
    "tags": []
   },
   "outputs": [],
   "source": [
    "#проверяем, есть ли у людей из одной группы фамилия, если нет, будет использована первая фамилия из группы, которая не NaN\n",
    "\n",
    "null_mask = pd.isna(df['Surname'])\n",
    "groups = df['Group']\n",
    "\n",
    "for i, value in enumerate(df['Surname']):\n",
    "    if null_mask[i]:\n",
    "        matching_indices = (groups == groups[i]) & (~pd.isna(df['Surname']))\n",
    "        matching_surnames = df.loc[matching_indices, 'Surname']\n",
    "\n",
    "        if not matching_surnames.empty:\n",
    "            df.loc[i, 'Surname'] = matching_surnames.iloc[0]"
   ]
  },
  {
   "cell_type": "code",
   "execution_count": 175,
   "id": "c310152f",
   "metadata": {
    "execution": {
     "iopub.execute_input": "2023-06-19T11:34:03.064129Z",
     "iopub.status.busy": "2023-06-19T11:34:03.063676Z",
     "iopub.status.idle": "2023-06-19T11:34:03.072508Z",
     "shell.execute_reply": "2023-06-19T11:34:03.071214Z"
    },
    "papermill": {
     "duration": 0.042961,
     "end_time": "2023-06-19T11:34:03.074839",
     "exception": false,
     "start_time": "2023-06-19T11:34:03.031878",
     "status": "completed"
    },
    "tags": []
   },
   "outputs": [],
   "source": [
    "#Ниженаписанная функция принимает на вход в качестве аргумента признак. Затем, смотрим на значение признака для людей, у которых одинаковые группы и фамилии.\n",
    "#Если видим Nan, то можем заменить на значение человека с такой же фамилией и группой, если оно есть...\n",
    "\n",
    "def f_na(feature):\n",
    "    null_mask = pd.isna(df[feature])\n",
    "    groups = df['Group']\n",
    "    surnames = df['Surname']\n",
    "\n",
    "    for i, value in enumerate(df[feature]):\n",
    "        if null_mask[i]:\n",
    "            matching_indices = (groups == groups[i]) & (~pd.isna(df[feature])) & (surnames == surnames[i])\n",
    "            matching_values = df.loc[matching_indices, feature]\n",
    "\n",
    "            if not matching_values.empty:\n",
    "                df.loc[i, feature] = matching_values.iloc[0]"
   ]
  },
  {
   "cell_type": "code",
   "execution_count": 176,
   "id": "d41c8939",
   "metadata": {
    "execution": {
     "iopub.execute_input": "2023-06-19T11:34:03.138680Z",
     "iopub.status.busy": "2023-06-19T11:34:03.137909Z",
     "iopub.status.idle": "2023-06-19T11:34:03.153590Z",
     "shell.execute_reply": "2023-06-19T11:34:03.152102Z"
    },
    "papermill": {
     "duration": 0.049862,
     "end_time": "2023-06-19T11:34:03.156363",
     "exception": false,
     "start_time": "2023-06-19T11:34:03.106501",
     "status": "completed"
    },
    "tags": []
   },
   "outputs": [
    {
     "data": {
      "text/plain": [
       "12827    Mars\n",
       "12828    Mars\n",
       "12829    Mars\n",
       "12830    Mars\n",
       "12831    Mars\n",
       "12832    Mars\n",
       "12833    Mars\n",
       "Name: HomePlanet, dtype: object"
      ]
     },
     "execution_count": 176,
     "metadata": {},
     "output_type": "execute_result"
    }
   ],
   "source": [
    "df[df['Group'] == '8980']['HomePlanet'] #Люди из 1 группы в основном живут на одной планете"
   ]
  },
  {
   "cell_type": "code",
   "execution_count": 177,
   "id": "0ff05fd2",
   "metadata": {
    "execution": {
     "iopub.execute_input": "2023-06-19T11:34:03.218288Z",
     "iopub.status.busy": "2023-06-19T11:34:03.217889Z",
     "iopub.status.idle": "2023-06-19T11:34:05.364543Z",
     "shell.execute_reply": "2023-06-19T11:34:05.363049Z"
    },
    "papermill": {
     "duration": 2.181202,
     "end_time": "2023-06-19T11:34:05.367774",
     "exception": false,
     "start_time": "2023-06-19T11:34:03.186572",
     "status": "completed"
    },
    "tags": []
   },
   "outputs": [],
   "source": [
    "f_na('HomePlanet')"
   ]
  },
  {
   "cell_type": "code",
   "execution_count": 178,
   "id": "2ab16cee",
   "metadata": {
    "execution": {
     "iopub.execute_input": "2023-06-19T11:34:05.434309Z",
     "iopub.status.busy": "2023-06-19T11:34:05.433905Z",
     "iopub.status.idle": "2023-06-19T11:34:05.446296Z",
     "shell.execute_reply": "2023-06-19T11:34:05.444895Z"
    },
    "papermill": {
     "duration": 0.048548,
     "end_time": "2023-06-19T11:34:05.448941",
     "exception": false,
     "start_time": "2023-06-19T11:34:05.400393",
     "status": "completed"
    },
    "tags": []
   },
   "outputs": [
    {
     "data": {
      "text/plain": [
       "12827    TRAPPIST-1e\n",
       "12828    55 Cancri e\n",
       "12829    TRAPPIST-1e\n",
       "12830    TRAPPIST-1e\n",
       "12831            NaN\n",
       "12832    TRAPPIST-1e\n",
       "12833    TRAPPIST-1e\n",
       "Name: Destination, dtype: object"
      ]
     },
     "execution_count": 178,
     "metadata": {},
     "output_type": "execute_result"
    }
   ],
   "source": [
    "df[df['Group'] == '8980']['Destination'] #люди из 1 группы в основном имеют один и тот же пункт назначения"
   ]
  },
  {
   "cell_type": "code",
   "execution_count": 179,
   "id": "5547eb82",
   "metadata": {
    "execution": {
     "iopub.execute_input": "2023-06-19T11:34:05.511333Z",
     "iopub.status.busy": "2023-06-19T11:34:05.510943Z",
     "iopub.status.idle": "2023-06-19T11:34:05.526664Z",
     "shell.execute_reply": "2023-06-19T11:34:05.525373Z"
    },
    "papermill": {
     "duration": 0.049244,
     "end_time": "2023-06-19T11:34:05.528998",
     "exception": false,
     "start_time": "2023-06-19T11:34:05.479754",
     "status": "completed"
    },
    "tags": []
   },
   "outputs": [
    {
     "data": {
      "text/html": [
       "<div>\n",
       "<style scoped>\n",
       "    .dataframe tbody tr th:only-of-type {\n",
       "        vertical-align: middle;\n",
       "    }\n",
       "\n",
       "    .dataframe tbody tr th {\n",
       "        vertical-align: top;\n",
       "    }\n",
       "\n",
       "    .dataframe thead th {\n",
       "        text-align: right;\n",
       "    }\n",
       "</style>\n",
       "<table border=\"1\" class=\"dataframe\">\n",
       "  <thead>\n",
       "    <tr style=\"text-align: right;\">\n",
       "      <th></th>\n",
       "      <th>Destination</th>\n",
       "      <th>Surname</th>\n",
       "    </tr>\n",
       "  </thead>\n",
       "  <tbody>\n",
       "    <tr>\n",
       "      <th>12827</th>\n",
       "      <td>TRAPPIST-1e</td>\n",
       "      <td>Brie</td>\n",
       "    </tr>\n",
       "    <tr>\n",
       "      <th>12828</th>\n",
       "      <td>55 Cancri e</td>\n",
       "      <td>Brie</td>\n",
       "    </tr>\n",
       "    <tr>\n",
       "      <th>12829</th>\n",
       "      <td>TRAPPIST-1e</td>\n",
       "      <td>Brie</td>\n",
       "    </tr>\n",
       "    <tr>\n",
       "      <th>12830</th>\n",
       "      <td>TRAPPIST-1e</td>\n",
       "      <td>Bare</td>\n",
       "    </tr>\n",
       "    <tr>\n",
       "      <th>12831</th>\n",
       "      <td>NaN</td>\n",
       "      <td>Brie</td>\n",
       "    </tr>\n",
       "    <tr>\n",
       "      <th>12832</th>\n",
       "      <td>TRAPPIST-1e</td>\n",
       "      <td>Brie</td>\n",
       "    </tr>\n",
       "    <tr>\n",
       "      <th>12833</th>\n",
       "      <td>TRAPPIST-1e</td>\n",
       "      <td>Brie</td>\n",
       "    </tr>\n",
       "  </tbody>\n",
       "</table>\n",
       "</div>"
      ],
      "text/plain": [
       "       Destination Surname\n",
       "12827  TRAPPIST-1e    Brie\n",
       "12828  55 Cancri e    Brie\n",
       "12829  TRAPPIST-1e    Brie\n",
       "12830  TRAPPIST-1e    Bare\n",
       "12831          NaN    Brie\n",
       "12832  TRAPPIST-1e    Brie\n",
       "12833  TRAPPIST-1e    Brie"
      ]
     },
     "execution_count": 179,
     "metadata": {},
     "output_type": "execute_result"
    }
   ],
   "source": [
    "df[df['Group'] == '8980'][['Destination', 'Surname']]"
   ]
  },
  {
   "cell_type": "code",
   "execution_count": 180,
   "id": "a52d7a4a",
   "metadata": {
    "execution": {
     "iopub.execute_input": "2023-06-19T11:34:05.590537Z",
     "iopub.status.busy": "2023-06-19T11:34:05.590098Z",
     "iopub.status.idle": "2023-06-19T11:34:07.609643Z",
     "shell.execute_reply": "2023-06-19T11:34:07.608141Z"
    },
    "papermill": {
     "duration": 2.05402,
     "end_time": "2023-06-19T11:34:07.612772",
     "exception": false,
     "start_time": "2023-06-19T11:34:05.558752",
     "status": "completed"
    },
    "tags": []
   },
   "outputs": [],
   "source": [
    "f_na('Destination')"
   ]
  },
  {
   "cell_type": "code",
   "execution_count": 181,
   "id": "1cdb32ec",
   "metadata": {
    "execution": {
     "iopub.execute_input": "2023-06-19T11:34:07.676420Z",
     "iopub.status.busy": "2023-06-19T11:34:07.675958Z",
     "iopub.status.idle": "2023-06-19T11:34:07.697851Z",
     "shell.execute_reply": "2023-06-19T11:34:07.696580Z"
    },
    "papermill": {
     "duration": 0.057019,
     "end_time": "2023-06-19T11:34:07.700560",
     "exception": false,
     "start_time": "2023-06-19T11:34:07.643541",
     "status": "completed"
    },
    "tags": []
   },
   "outputs": [
    {
     "data": {
      "text/html": [
       "<div>\n",
       "<style scoped>\n",
       "    .dataframe tbody tr th:only-of-type {\n",
       "        vertical-align: middle;\n",
       "    }\n",
       "\n",
       "    .dataframe tbody tr th {\n",
       "        vertical-align: top;\n",
       "    }\n",
       "\n",
       "    .dataframe thead th {\n",
       "        text-align: right;\n",
       "    }\n",
       "</style>\n",
       "<table border=\"1\" class=\"dataframe\">\n",
       "  <thead>\n",
       "    <tr style=\"text-align: right;\">\n",
       "      <th></th>\n",
       "      <th>CryoSleep</th>\n",
       "      <th>Surname</th>\n",
       "      <th>Age</th>\n",
       "    </tr>\n",
       "  </thead>\n",
       "  <tbody>\n",
       "    <tr>\n",
       "      <th>12947</th>\n",
       "      <td>False</td>\n",
       "      <td>Garnettiz</td>\n",
       "      <td>10.0</td>\n",
       "    </tr>\n",
       "    <tr>\n",
       "      <th>12948</th>\n",
       "      <td>True</td>\n",
       "      <td>Emenez</td>\n",
       "      <td>3.0</td>\n",
       "    </tr>\n",
       "    <tr>\n",
       "      <th>12949</th>\n",
       "      <td>True</td>\n",
       "      <td>Emenez</td>\n",
       "      <td>16.0</td>\n",
       "    </tr>\n",
       "    <tr>\n",
       "      <th>12950</th>\n",
       "      <td>False</td>\n",
       "      <td>Emenez</td>\n",
       "      <td>26.0</td>\n",
       "    </tr>\n",
       "    <tr>\n",
       "      <th>12951</th>\n",
       "      <td>True</td>\n",
       "      <td>Emenez</td>\n",
       "      <td>14.0</td>\n",
       "    </tr>\n",
       "    <tr>\n",
       "      <th>12952</th>\n",
       "      <td>False</td>\n",
       "      <td>Garnettiz</td>\n",
       "      <td>0.0</td>\n",
       "    </tr>\n",
       "    <tr>\n",
       "      <th>12953</th>\n",
       "      <td>False</td>\n",
       "      <td>Emenez</td>\n",
       "      <td>32.0</td>\n",
       "    </tr>\n",
       "  </tbody>\n",
       "</table>\n",
       "</div>"
      ],
      "text/plain": [
       "      CryoSleep    Surname   Age\n",
       "12947     False  Garnettiz  10.0\n",
       "12948      True     Emenez   3.0\n",
       "12949      True     Emenez  16.0\n",
       "12950     False     Emenez  26.0\n",
       "12951      True     Emenez  14.0\n",
       "12952     False  Garnettiz   0.0\n",
       "12953     False     Emenez  32.0"
      ]
     },
     "execution_count": 181,
     "metadata": {},
     "output_type": "execute_result"
    }
   ],
   "source": [
    "#Про криосон так нельзя сказать\n",
    "df[df['Group'] == '9238'][['CryoSleep', 'Surname', 'Age']] "
   ]
  },
  {
   "cell_type": "code",
   "execution_count": 182,
   "id": "9469f585",
   "metadata": {
    "execution": {
     "iopub.execute_input": "2023-06-19T11:34:07.766667Z",
     "iopub.status.busy": "2023-06-19T11:34:07.765535Z",
     "iopub.status.idle": "2023-06-19T11:34:07.778319Z",
     "shell.execute_reply": "2023-06-19T11:34:07.777147Z"
    },
    "papermill": {
     "duration": 0.049252,
     "end_time": "2023-06-19T11:34:07.781099",
     "exception": false,
     "start_time": "2023-06-19T11:34:07.731847",
     "status": "completed"
    },
    "tags": []
   },
   "outputs": [
    {
     "data": {
      "text/plain": [
       "12827    D/273/S\n",
       "12828    D/273/S\n",
       "12829    D/273/S\n",
       "12830    D/273/S\n",
       "12831    D/273/S\n",
       "12832    D/273/S\n",
       "12833    D/273/S\n",
       "Name: Cabin, dtype: object"
      ]
     },
     "execution_count": 182,
     "metadata": {},
     "output_type": "execute_result"
    }
   ],
   "source": [
    "df[df['Group'] == '8980']['Cabin'] #Люди из 1 группы в основном живут в 1 каюте"
   ]
  },
  {
   "cell_type": "code",
   "execution_count": 183,
   "id": "27edb848",
   "metadata": {
    "execution": {
     "iopub.execute_input": "2023-06-19T11:34:07.847196Z",
     "iopub.status.busy": "2023-06-19T11:34:07.846651Z",
     "iopub.status.idle": "2023-06-19T11:34:10.084410Z",
     "shell.execute_reply": "2023-06-19T11:34:10.083007Z"
    },
    "papermill": {
     "duration": 2.274933,
     "end_time": "2023-06-19T11:34:10.087658",
     "exception": false,
     "start_time": "2023-06-19T11:34:07.812725",
     "status": "completed"
    },
    "tags": []
   },
   "outputs": [],
   "source": [
    "f_na('Cabin')"
   ]
  },
  {
   "cell_type": "code",
   "execution_count": 184,
   "id": "cc387a82",
   "metadata": {
    "execution": {
     "iopub.execute_input": "2023-06-19T11:34:10.154425Z",
     "iopub.status.busy": "2023-06-19T11:34:10.153971Z",
     "iopub.status.idle": "2023-06-19T11:34:10.166600Z",
     "shell.execute_reply": "2023-06-19T11:34:10.165671Z"
    },
    "papermill": {
     "duration": 0.048351,
     "end_time": "2023-06-19T11:34:10.169282",
     "exception": false,
     "start_time": "2023-06-19T11:34:10.120931",
     "status": "completed"
    },
    "tags": []
   },
   "outputs": [
    {
     "data": {
      "text/plain": [
       "12827    False\n",
       "12828    False\n",
       "12829    False\n",
       "12830    False\n",
       "12831    False\n",
       "12832    False\n",
       "12833    False\n",
       "Name: VIP, dtype: object"
      ]
     },
     "execution_count": 184,
     "metadata": {},
     "output_type": "execute_result"
    }
   ],
   "source": [
    "df[df['Group'] == '8980']['VIP'] #и на 1 планете"
   ]
  },
  {
   "cell_type": "code",
   "execution_count": 185,
   "id": "e0c6db6e",
   "metadata": {
    "execution": {
     "iopub.execute_input": "2023-06-19T11:34:10.234801Z",
     "iopub.status.busy": "2023-06-19T11:34:10.234424Z",
     "iopub.status.idle": "2023-06-19T11:34:12.460494Z",
     "shell.execute_reply": "2023-06-19T11:34:12.459630Z"
    },
    "papermill": {
     "duration": 2.261776,
     "end_time": "2023-06-19T11:34:12.463925",
     "exception": false,
     "start_time": "2023-06-19T11:34:10.202149",
     "status": "completed"
    },
    "tags": []
   },
   "outputs": [],
   "source": [
    "f_na('VIP')"
   ]
  },
  {
   "cell_type": "code",
   "execution_count": 186,
   "id": "8dc7282f",
   "metadata": {
    "execution": {
     "iopub.execute_input": "2023-06-19T11:34:12.534317Z",
     "iopub.status.busy": "2023-06-19T11:34:12.532983Z",
     "iopub.status.idle": "2023-06-19T11:34:12.585367Z",
     "shell.execute_reply": "2023-06-19T11:34:12.584180Z"
    },
    "papermill": {
     "duration": 0.087566,
     "end_time": "2023-06-19T11:34:12.587904",
     "exception": false,
     "start_time": "2023-06-19T11:34:12.500338",
     "status": "completed"
    },
    "tags": []
   },
   "outputs": [
    {
     "data": {
      "text/plain": [
       "PassengerId       0\n",
       "HomePlanet      169\n",
       "CryoSleep       310\n",
       "Cabin           169\n",
       "Destination     163\n",
       "Age             270\n",
       "VIP             183\n",
       "RoomService     263\n",
       "FoodCourt       289\n",
       "ShoppingMall    306\n",
       "Spa             284\n",
       "VRDeck          268\n",
       "Name            294\n",
       "Group             0\n",
       "Num               0\n",
       "Surname         155\n",
       "dtype: int64"
      ]
     },
     "execution_count": 186,
     "metadata": {},
     "output_type": "execute_result"
    }
   ],
   "source": [
    "df.isna().sum() "
   ]
  },
  {
   "cell_type": "markdown",
   "id": "dd059566",
   "metadata": {
    "papermill": {
     "duration": 0.032135,
     "end_time": "2023-06-19T11:34:12.652016",
     "exception": false,
     "start_time": "2023-06-19T11:34:12.619881",
     "status": "completed"
    },
    "tags": []
   },
   "source": [
    "Таким образом частично заполнили NaN"
   ]
  },
  {
   "cell_type": "code",
   "execution_count": 187,
   "id": "33a4baf8",
   "metadata": {
    "execution": {
     "iopub.execute_input": "2023-06-19T11:34:12.717088Z",
     "iopub.status.busy": "2023-06-19T11:34:12.715235Z",
     "iopub.status.idle": "2023-06-19T11:34:13.865970Z",
     "shell.execute_reply": "2023-06-19T11:34:13.864608Z"
    },
    "papermill": {
     "duration": 1.186169,
     "end_time": "2023-06-19T11:34:13.869186",
     "exception": false,
     "start_time": "2023-06-19T11:34:12.683017",
     "status": "completed"
    },
    "tags": []
   },
   "outputs": [],
   "source": [
    "#Разделим информацию в каюте\n",
    "df['Cabin_n'] = df['Cabin']\n",
    "for i, name in enumerate(df['Cabin']):\n",
    "    if pd.isna(name) == False:\n",
    "        df.loc[i, 'Cabin_n'] = name.split('/')[1]"
   ]
  },
  {
   "cell_type": "code",
   "execution_count": 188,
   "id": "78b17de4",
   "metadata": {
    "execution": {
     "iopub.execute_input": "2023-06-19T11:34:13.937741Z",
     "iopub.status.busy": "2023-06-19T11:34:13.936749Z",
     "iopub.status.idle": "2023-06-19T11:34:15.112129Z",
     "shell.execute_reply": "2023-06-19T11:34:15.110669Z"
    },
    "papermill": {
     "duration": 1.214556,
     "end_time": "2023-06-19T11:34:15.115353",
     "exception": false,
     "start_time": "2023-06-19T11:34:13.900797",
     "status": "completed"
    },
    "tags": []
   },
   "outputs": [],
   "source": [
    "df['Cabin_d'] = df['Cabin']\n",
    "for i, name in enumerate(df['Cabin']):\n",
    "    if pd.isna(name) == False:\n",
    "        df.loc[i, 'Cabin_d'] = name.split('/')[0]"
   ]
  },
  {
   "cell_type": "code",
   "execution_count": 189,
   "id": "c5f872e7",
   "metadata": {
    "execution": {
     "iopub.execute_input": "2023-06-19T11:34:15.181959Z",
     "iopub.status.busy": "2023-06-19T11:34:15.181515Z",
     "iopub.status.idle": "2023-06-19T11:34:16.323757Z",
     "shell.execute_reply": "2023-06-19T11:34:16.322223Z"
    },
    "papermill": {
     "duration": 1.179258,
     "end_time": "2023-06-19T11:34:16.326593",
     "exception": false,
     "start_time": "2023-06-19T11:34:15.147335",
     "status": "completed"
    },
    "tags": []
   },
   "outputs": [],
   "source": [
    "df['Cabin_s'] = df['Cabin']\n",
    "for i, name in enumerate(df['Cabin']):\n",
    "    if pd.isna(name) == False:\n",
    "        df.loc[i, 'Cabin_s'] = name.split('/')[2]"
   ]
  },
  {
   "cell_type": "code",
   "execution_count": 190,
   "id": "2b3ff5d1",
   "metadata": {
    "execution": {
     "iopub.execute_input": "2023-06-19T11:34:16.393116Z",
     "iopub.status.busy": "2023-06-19T11:34:16.392629Z",
     "iopub.status.idle": "2023-06-19T11:34:16.490940Z",
     "shell.execute_reply": "2023-06-19T11:34:16.489655Z"
    },
    "papermill": {
     "duration": 0.135457,
     "end_time": "2023-06-19T11:34:16.494086",
     "exception": false,
     "start_time": "2023-06-19T11:34:16.358629",
     "status": "completed"
    },
    "tags": []
   },
   "outputs": [],
   "source": [
    "#Тут я решил изменить категориальные признаки на числа самым простым образом через словари\n",
    "\n",
    "planet_num = {'Europa': 1, 'Earth': 2, 'Mars': 3}\n",
    "df['Planet_num'] = df['HomePlanet'].replace(planet_num)\n",
    "\n",
    "cryo_num = {False: 0, True: 1}\n",
    "df['Cryo_num'] = df['CryoSleep'].replace(cryo_num)\n",
    "\n",
    "destination_num = {'TRAPPIST-1e': 1, '55 Cancri e': 2, 'PSO J318.5-22': 3}\n",
    "df['Dest_num'] = df['Destination'].replace(destination_num)\n",
    "\n",
    "num_n = {'01': 1, '02': 2, '03': 3, '04': 4, '05': 5, '06': 6, '07': 7, '08': 8}\n",
    "df['Num_n'] = df['Num'].replace(num_n)\n",
    "\n",
    "vip_num = {False: 0, True: 1}\n",
    "df['VIP_num'] = df['VIP'].replace(vip_num)\n",
    "\n",
    "deck_level = {'G': 1, 'F': 2, 'E': 3, 'D': 4, 'C': 5, 'B': 6, 'A': 7, 'T' : 7}\n",
    "df['Deck_num'] = df['Cabin_d'].replace(deck_level)"
   ]
  },
  {
   "cell_type": "code",
   "execution_count": 191,
   "id": "6c1867db",
   "metadata": {
    "execution": {
     "iopub.execute_input": "2023-06-19T11:34:16.560756Z",
     "iopub.status.busy": "2023-06-19T11:34:16.560287Z",
     "iopub.status.idle": "2023-06-19T11:34:19.846562Z",
     "shell.execute_reply": "2023-06-19T11:34:19.845216Z"
    },
    "papermill": {
     "duration": 3.322416,
     "end_time": "2023-06-19T11:34:19.849409",
     "exception": false,
     "start_time": "2023-06-19T11:34:16.526993",
     "status": "completed"
    },
    "tags": []
   },
   "outputs": [],
   "source": [
    "from sklearn.impute import KNNImputer\n",
    "\n",
    "#список категориальных признаков\n",
    "na_list = ['RoomService', 'FoodCourt', 'ShoppingMall', 'Planet_num', 'Cryo_num', 'Dest_num', 'Deck_num', 'VIP_num', 'Age', 'Spa', 'VRDeck']\n",
    "\n",
    "\n",
    "knn_imp = KNNImputer()\n",
    "\n",
    "df_num = pd.DataFrame(knn_imp.fit_transform(df[na_list]),\n",
    "                      columns=df[na_list].columns)"
   ]
  },
  {
   "cell_type": "code",
   "execution_count": 192,
   "id": "76558b91",
   "metadata": {
    "execution": {
     "iopub.execute_input": "2023-06-19T11:34:19.917031Z",
     "iopub.status.busy": "2023-06-19T11:34:19.916171Z",
     "iopub.status.idle": "2023-06-19T11:34:19.926789Z",
     "shell.execute_reply": "2023-06-19T11:34:19.925448Z"
    },
    "papermill": {
     "duration": 0.047449,
     "end_time": "2023-06-19T11:34:19.929778",
     "exception": false,
     "start_time": "2023-06-19T11:34:19.882329",
     "status": "completed"
    },
    "tags": []
   },
   "outputs": [],
   "source": [
    "df[na_list] = df_num"
   ]
  },
  {
   "cell_type": "code",
   "execution_count": 193,
   "id": "bbe29eef",
   "metadata": {
    "execution": {
     "iopub.execute_input": "2023-06-19T11:34:19.995223Z",
     "iopub.status.busy": "2023-06-19T11:34:19.994796Z",
     "iopub.status.idle": "2023-06-19T11:34:20.007112Z",
     "shell.execute_reply": "2023-06-19T11:34:20.005344Z"
    },
    "papermill": {
     "duration": 0.048428,
     "end_time": "2023-06-19T11:34:20.010103",
     "exception": false,
     "start_time": "2023-06-19T11:34:19.961675",
     "status": "completed"
    },
    "tags": []
   },
   "outputs": [],
   "source": [
    "df[['Planet_num', 'Deck_num', 'Dest_num', 'VIP_num', 'Cryo_num']] = df[['Planet_num', 'Deck_num', 'Dest_num', 'VIP_num', 'Cryo_num']].astype(int)"
   ]
  },
  {
   "cell_type": "code",
   "execution_count": 194,
   "id": "53c06b5e",
   "metadata": {
    "execution": {
     "iopub.execute_input": "2023-06-19T11:34:20.075622Z",
     "iopub.status.busy": "2023-06-19T11:34:20.075208Z",
     "iopub.status.idle": "2023-06-19T11:34:20.110521Z",
     "shell.execute_reply": "2023-06-19T11:34:20.109137Z"
    },
    "papermill": {
     "duration": 0.072134,
     "end_time": "2023-06-19T11:34:20.114106",
     "exception": false,
     "start_time": "2023-06-19T11:34:20.041972",
     "status": "completed"
    },
    "tags": []
   },
   "outputs": [],
   "source": [
    "#снова заменим числа категориями.\n",
    "planet_num = {1 : 'Europa', 2 :'Earth', 3: 'Mars'}\n",
    "df['HomePlanet'] = df['Planet_num'].replace(planet_num)\n",
    "\n",
    "cryo_num = {0: False, 1: True}\n",
    "df['CryoSleep'] = df['Cryo_num'].replace(cryo_num)\n",
    "\n",
    "destination_num = {1: 'TRAPPIST-1e', 2: '55 Cancri e', 3: 'PSO J318.5-22'}\n",
    "df['Destination'] = df['Dest_num'].replace(destination_num)\n",
    "\n",
    "deck_level = {1: 'G', 2: 'F', 3: 'E', 4: 'D', 5: 'C', 6: 'B', 7: 'A', 7: 'T'}\n",
    "df['Cabin_d'] = df['Deck_num'].replace(deck_level)\n",
    "\n",
    "vip_num = {0: False, 1: True}\n",
    "df['VIP'] = df['VIP_num'].replace(vip_num)"
   ]
  },
  {
   "cell_type": "code",
   "execution_count": 195,
   "id": "5c25f9f2",
   "metadata": {
    "execution": {
     "iopub.execute_input": "2023-06-19T11:34:20.179688Z",
     "iopub.status.busy": "2023-06-19T11:34:20.179148Z",
     "iopub.status.idle": "2023-06-19T11:34:20.240967Z",
     "shell.execute_reply": "2023-06-19T11:34:20.239679Z"
    },
    "papermill": {
     "duration": 0.098025,
     "end_time": "2023-06-19T11:34:20.244001",
     "exception": false,
     "start_time": "2023-06-19T11:34:20.145976",
     "status": "completed"
    },
    "tags": []
   },
   "outputs": [
    {
     "data": {
      "text/plain": [
       "PassengerId       0\n",
       "HomePlanet        0\n",
       "CryoSleep         0\n",
       "Cabin           169\n",
       "Destination       0\n",
       "Age               0\n",
       "VIP               0\n",
       "RoomService       0\n",
       "FoodCourt         0\n",
       "ShoppingMall      0\n",
       "Spa               0\n",
       "VRDeck            0\n",
       "Name            294\n",
       "Group             0\n",
       "Num               0\n",
       "Surname         155\n",
       "Cabin_n         169\n",
       "Cabin_d           0\n",
       "Cabin_s         169\n",
       "Planet_num        0\n",
       "Cryo_num          0\n",
       "Dest_num          0\n",
       "Num_n             0\n",
       "VIP_num           0\n",
       "Deck_num          0\n",
       "dtype: int64"
      ]
     },
     "execution_count": 195,
     "metadata": {},
     "output_type": "execute_result"
    }
   ],
   "source": [
    "df.isna().sum()"
   ]
  },
  {
   "cell_type": "code",
   "execution_count": 196,
   "id": "1793e388",
   "metadata": {
    "execution": {
     "iopub.execute_input": "2023-06-19T11:34:20.373617Z",
     "iopub.status.busy": "2023-06-19T11:34:20.373163Z",
     "iopub.status.idle": "2023-06-19T11:34:20.406183Z",
     "shell.execute_reply": "2023-06-19T11:34:20.404794Z"
    },
    "papermill": {
     "duration": 0.069014,
     "end_time": "2023-06-19T11:34:20.409090",
     "exception": false,
     "start_time": "2023-06-19T11:34:20.340076",
     "status": "completed"
    },
    "tags": []
   },
   "outputs": [
    {
     "data": {
      "text/html": [
       "<div>\n",
       "<style scoped>\n",
       "    .dataframe tbody tr th:only-of-type {\n",
       "        vertical-align: middle;\n",
       "    }\n",
       "\n",
       "    .dataframe tbody tr th {\n",
       "        vertical-align: top;\n",
       "    }\n",
       "\n",
       "    .dataframe thead th {\n",
       "        text-align: right;\n",
       "    }\n",
       "</style>\n",
       "<table border=\"1\" class=\"dataframe\">\n",
       "  <thead>\n",
       "    <tr style=\"text-align: right;\">\n",
       "      <th></th>\n",
       "      <th>PassengerId</th>\n",
       "      <th>HomePlanet</th>\n",
       "      <th>CryoSleep</th>\n",
       "      <th>Cabin</th>\n",
       "      <th>Destination</th>\n",
       "      <th>Age</th>\n",
       "      <th>VIP</th>\n",
       "      <th>RoomService</th>\n",
       "      <th>FoodCourt</th>\n",
       "      <th>ShoppingMall</th>\n",
       "      <th>...</th>\n",
       "      <th>Surname</th>\n",
       "      <th>Cabin_n</th>\n",
       "      <th>Cabin_d</th>\n",
       "      <th>Cabin_s</th>\n",
       "      <th>Planet_num</th>\n",
       "      <th>Cryo_num</th>\n",
       "      <th>Dest_num</th>\n",
       "      <th>Num_n</th>\n",
       "      <th>VIP_num</th>\n",
       "      <th>Deck_num</th>\n",
       "    </tr>\n",
       "  </thead>\n",
       "  <tbody>\n",
       "    <tr>\n",
       "      <th>0</th>\n",
       "      <td>0001_01</td>\n",
       "      <td>Europa</td>\n",
       "      <td>False</td>\n",
       "      <td>B/0/P</td>\n",
       "      <td>TRAPPIST-1e</td>\n",
       "      <td>39.0</td>\n",
       "      <td>False</td>\n",
       "      <td>0.0</td>\n",
       "      <td>0.0</td>\n",
       "      <td>0.0</td>\n",
       "      <td>...</td>\n",
       "      <td>Ofracculy</td>\n",
       "      <td>0</td>\n",
       "      <td>B</td>\n",
       "      <td>P</td>\n",
       "      <td>1</td>\n",
       "      <td>0</td>\n",
       "      <td>1</td>\n",
       "      <td>1</td>\n",
       "      <td>0</td>\n",
       "      <td>6</td>\n",
       "    </tr>\n",
       "    <tr>\n",
       "      <th>1</th>\n",
       "      <td>0002_01</td>\n",
       "      <td>Earth</td>\n",
       "      <td>False</td>\n",
       "      <td>F/0/S</td>\n",
       "      <td>TRAPPIST-1e</td>\n",
       "      <td>24.0</td>\n",
       "      <td>False</td>\n",
       "      <td>109.0</td>\n",
       "      <td>9.0</td>\n",
       "      <td>25.0</td>\n",
       "      <td>...</td>\n",
       "      <td>Vines</td>\n",
       "      <td>0</td>\n",
       "      <td>F</td>\n",
       "      <td>S</td>\n",
       "      <td>2</td>\n",
       "      <td>0</td>\n",
       "      <td>1</td>\n",
       "      <td>1</td>\n",
       "      <td>0</td>\n",
       "      <td>2</td>\n",
       "    </tr>\n",
       "    <tr>\n",
       "      <th>2</th>\n",
       "      <td>0003_01</td>\n",
       "      <td>Europa</td>\n",
       "      <td>False</td>\n",
       "      <td>A/0/S</td>\n",
       "      <td>TRAPPIST-1e</td>\n",
       "      <td>58.0</td>\n",
       "      <td>True</td>\n",
       "      <td>43.0</td>\n",
       "      <td>3576.0</td>\n",
       "      <td>0.0</td>\n",
       "      <td>...</td>\n",
       "      <td>Susent</td>\n",
       "      <td>0</td>\n",
       "      <td>T</td>\n",
       "      <td>S</td>\n",
       "      <td>1</td>\n",
       "      <td>0</td>\n",
       "      <td>1</td>\n",
       "      <td>1</td>\n",
       "      <td>1</td>\n",
       "      <td>7</td>\n",
       "    </tr>\n",
       "    <tr>\n",
       "      <th>3</th>\n",
       "      <td>0003_02</td>\n",
       "      <td>Europa</td>\n",
       "      <td>False</td>\n",
       "      <td>A/0/S</td>\n",
       "      <td>TRAPPIST-1e</td>\n",
       "      <td>33.0</td>\n",
       "      <td>False</td>\n",
       "      <td>0.0</td>\n",
       "      <td>1283.0</td>\n",
       "      <td>371.0</td>\n",
       "      <td>...</td>\n",
       "      <td>Susent</td>\n",
       "      <td>0</td>\n",
       "      <td>T</td>\n",
       "      <td>S</td>\n",
       "      <td>1</td>\n",
       "      <td>0</td>\n",
       "      <td>1</td>\n",
       "      <td>2</td>\n",
       "      <td>0</td>\n",
       "      <td>7</td>\n",
       "    </tr>\n",
       "    <tr>\n",
       "      <th>4</th>\n",
       "      <td>0004_01</td>\n",
       "      <td>Earth</td>\n",
       "      <td>False</td>\n",
       "      <td>F/1/S</td>\n",
       "      <td>TRAPPIST-1e</td>\n",
       "      <td>16.0</td>\n",
       "      <td>False</td>\n",
       "      <td>303.0</td>\n",
       "      <td>70.0</td>\n",
       "      <td>151.0</td>\n",
       "      <td>...</td>\n",
       "      <td>Santantines</td>\n",
       "      <td>1</td>\n",
       "      <td>F</td>\n",
       "      <td>S</td>\n",
       "      <td>2</td>\n",
       "      <td>0</td>\n",
       "      <td>1</td>\n",
       "      <td>1</td>\n",
       "      <td>0</td>\n",
       "      <td>2</td>\n",
       "    </tr>\n",
       "  </tbody>\n",
       "</table>\n",
       "<p>5 rows × 25 columns</p>\n",
       "</div>"
      ],
      "text/plain": [
       "  PassengerId HomePlanet  CryoSleep  Cabin  Destination   Age    VIP  \\\n",
       "0     0001_01     Europa      False  B/0/P  TRAPPIST-1e  39.0  False   \n",
       "1     0002_01      Earth      False  F/0/S  TRAPPIST-1e  24.0  False   \n",
       "2     0003_01     Europa      False  A/0/S  TRAPPIST-1e  58.0   True   \n",
       "3     0003_02     Europa      False  A/0/S  TRAPPIST-1e  33.0  False   \n",
       "4     0004_01      Earth      False  F/1/S  TRAPPIST-1e  16.0  False   \n",
       "\n",
       "   RoomService  FoodCourt  ShoppingMall  ...      Surname  Cabin_n Cabin_d  \\\n",
       "0          0.0        0.0           0.0  ...    Ofracculy        0       B   \n",
       "1        109.0        9.0          25.0  ...        Vines        0       F   \n",
       "2         43.0     3576.0           0.0  ...       Susent        0       T   \n",
       "3          0.0     1283.0         371.0  ...       Susent        0       T   \n",
       "4        303.0       70.0         151.0  ...  Santantines        1       F   \n",
       "\n",
       "  Cabin_s Planet_num Cryo_num Dest_num Num_n VIP_num  Deck_num  \n",
       "0       P          1        0        1     1       0         6  \n",
       "1       S          2        0        1     1       0         2  \n",
       "2       S          1        0        1     1       1         7  \n",
       "3       S          1        0        1     2       0         7  \n",
       "4       S          2        0        1     1       0         2  \n",
       "\n",
       "[5 rows x 25 columns]"
      ]
     },
     "execution_count": 196,
     "metadata": {},
     "output_type": "execute_result"
    }
   ],
   "source": [
    "df.head()"
   ]
  },
  {
   "cell_type": "markdown",
   "id": "91ad57bc",
   "metadata": {
    "papermill": {
     "duration": 0.032779,
     "end_time": "2023-06-19T11:34:20.539232",
     "exception": false,
     "start_time": "2023-06-19T11:34:20.506453",
     "status": "completed"
    },
    "tags": []
   },
   "source": [
    "### Group_Size"
   ]
  },
  {
   "cell_type": "code",
   "execution_count": 197,
   "id": "5d4a481d",
   "metadata": {
    "execution": {
     "iopub.execute_input": "2023-06-19T11:34:20.606619Z",
     "iopub.status.busy": "2023-06-19T11:34:20.605371Z",
     "iopub.status.idle": "2023-06-19T11:34:46.741060Z",
     "shell.execute_reply": "2023-06-19T11:34:46.739546Z"
    },
    "papermill": {
     "duration": 26.1725,
     "end_time": "2023-06-19T11:34:46.743792",
     "exception": false,
     "start_time": "2023-06-19T11:34:20.571292",
     "status": "completed"
    },
    "tags": []
   },
   "outputs": [],
   "source": [
    "#Мы получали информацию о размере группы из ID, сделаем новый признак  Group_size из этого\n",
    "\n",
    "df['Group_Size'] = df['Num_n']\n",
    "for i in range(len(df['Group'])):\n",
    "    number1 = df.loc[i, 'Group']\n",
    "    group_sizes = df.loc[i+1:, 'Num_n']\n",
    "    matching_indices = (df.loc[i+1:, 'Group'] == number1) & (group_sizes > df.loc[i, 'Num_n'])\n",
    "\n",
    "    if matching_indices.any():\n",
    "        max_group_size = group_sizes[matching_indices].max()\n",
    "        df.loc[i, 'Group_Size'] = max_group_size"
   ]
  },
  {
   "cell_type": "markdown",
   "id": "aabc137c",
   "metadata": {
    "papermill": {
     "duration": 0.030988,
     "end_time": "2023-06-19T11:34:46.806390",
     "exception": false,
     "start_time": "2023-06-19T11:34:46.775402",
     "status": "completed"
    },
    "tags": []
   },
   "source": [
    "###  Lucky_Age"
   ]
  },
  {
   "cell_type": "code",
   "execution_count": 198,
   "id": "7ebb2992",
   "metadata": {
    "execution": {
     "iopub.execute_input": "2023-06-19T11:34:46.873395Z",
     "iopub.status.busy": "2023-06-19T11:34:46.872897Z",
     "iopub.status.idle": "2023-06-19T11:34:47.561785Z",
     "shell.execute_reply": "2023-06-19T11:34:47.560444Z"
    },
    "papermill": {
     "duration": 0.726268,
     "end_time": "2023-06-19T11:34:47.564676",
     "exception": false,
     "start_time": "2023-06-19T11:34:46.838408",
     "status": "completed"
    },
    "tags": []
   },
   "outputs": [
    {
     "data": {
      "image/png": "[encoded data removed]",
      "text/plain": [
       "<Figure size 792x432 with 1 Axes>"
      ]
     },
     "metadata": {
      "needs_background": "light"
     },
     "output_type": "display_data"
    }
   ],
   "source": [
    "y = train_data['Transported']\n",
    "X = df[:train_max].copy()\n",
    "\n",
    "train_data = pd.concat([X, y], axis=1).copy() #джоиним x_train к Transported \n",
    "\n",
    "plt.figure(figsize=(11, 6))\n",
    "train_data[train_data['Transported'] == False]['Age'].plot(kind='kde', label = 'Not transported')\n",
    "train_data[train_data['Transported'] == True]['Age'].plot(kind='kde', label = 'Transported')\n",
    "plt.legend()\n",
    "plt.grid()\n",
    "plt.xlabel('Age')\n",
    "plt.xlim(0, 90)\n",
    "plt.xticks(np.arange(0, 90, 5))\n",
    "plt.show()"
   ]
  },
  {
   "cell_type": "markdown",
   "id": "c50b5597",
   "metadata": {
    "papermill": {
     "duration": 0.032585,
     "end_time": "2023-06-19T11:34:47.630779",
     "exception": false,
     "start_time": "2023-06-19T11:34:47.598194",
     "status": "completed"
    },
    "tags": []
   },
   "source": [
    "глядя на точки пересечения создаём 4 возрастные группы."
   ]
  },
  {
   "cell_type": "code",
   "execution_count": 199,
   "id": "ceaa30b9",
   "metadata": {
    "execution": {
     "iopub.execute_input": "2023-06-19T11:34:47.698612Z",
     "iopub.status.busy": "2023-06-19T11:34:47.698216Z",
     "iopub.status.idle": "2023-06-19T11:34:47.708070Z",
     "shell.execute_reply": "2023-06-19T11:34:47.706918Z"
    },
    "papermill": {
     "duration": 0.046161,
     "end_time": "2023-06-19T11:34:47.710746",
     "exception": false,
     "start_time": "2023-06-19T11:34:47.664585",
     "status": "completed"
    },
    "tags": []
   },
   "outputs": [],
   "source": [
    "df['lucky_age'] = pd.cut(x=df.Age, labels=[4, 2, 1, 3],\n",
    "                            bins=[0, 16, 45, 55, df.Age.max()])"
   ]
  },
  {
   "cell_type": "code",
   "execution_count": 200,
   "id": "86893db0",
   "metadata": {
    "execution": {
     "iopub.execute_input": "2023-06-19T11:34:47.845950Z",
     "iopub.status.busy": "2023-06-19T11:34:47.845513Z",
     "iopub.status.idle": "2023-06-19T11:34:47.853754Z",
     "shell.execute_reply": "2023-06-19T11:34:47.852509Z"
    },
    "papermill": {
     "duration": 0.045361,
     "end_time": "2023-06-19T11:34:47.856157",
     "exception": false,
     "start_time": "2023-06-19T11:34:47.810796",
     "status": "completed"
    },
    "tags": []
   },
   "outputs": [],
   "source": [
    "#все расходы на борту для каждого человека.\n",
    "\n",
    "df['TotalSpent'] = df['RoomService'] + df['FoodCourt'] + df['ShoppingMall'] + df['Spa'] + df['VRDeck']"
   ]
  },
  {
   "cell_type": "code",
   "execution_count": 201,
   "id": "45353fb1",
   "metadata": {
    "execution": {
     "iopub.execute_input": "2023-06-19T11:34:47.994902Z",
     "iopub.status.busy": "2023-06-19T11:34:47.994208Z",
     "iopub.status.idle": "2023-06-19T11:34:49.886459Z",
     "shell.execute_reply": "2023-06-19T11:34:49.885155Z"
    },
    "papermill": {
     "duration": 1.931288,
     "end_time": "2023-06-19T11:34:49.889308",
     "exception": false,
     "start_time": "2023-06-19T11:34:47.958020",
     "status": "completed"
    },
    "tags": []
   },
   "outputs": [],
   "source": [
    "#бинарный признак, который показывает, были ли траты вообще\n",
    "\n",
    "df['Money_spent'] = df['TotalSpent']\n",
    "for i in range(len(df['TotalSpent'])):\n",
    "    if df.loc[i, 'TotalSpent'] == 0:\n",
    "        df.loc[i, 'Money_spent'] = 0\n",
    "    else:\n",
    "        df.loc[i, 'Money_spent'] = 1"
   ]
  },
  {
   "cell_type": "code",
   "execution_count": 202,
   "id": "cc92bdd3",
   "metadata": {
    "execution": {
     "iopub.execute_input": "2023-06-19T11:34:49.960925Z",
     "iopub.status.busy": "2023-06-19T11:34:49.960419Z",
     "iopub.status.idle": "2023-06-19T11:34:49.982207Z",
     "shell.execute_reply": "2023-06-19T11:34:49.980897Z"
    },
    "papermill": {
     "duration": 0.062522,
     "end_time": "2023-06-19T11:34:49.985228",
     "exception": false,
     "start_time": "2023-06-19T11:34:49.922706",
     "status": "completed"
    },
    "tags": []
   },
   "outputs": [],
   "source": [
    "X = df[:train_max].copy()\n",
    "\n",
    "train_data = pd.concat([X, y], axis=1).copy()"
   ]
  },
  {
   "cell_type": "code",
   "execution_count": 204,
   "id": "1daff90b",
   "metadata": {
    "execution": {
     "iopub.execute_input": "2023-06-19T11:34:50.208627Z",
     "iopub.status.busy": "2023-06-19T11:34:50.207721Z",
     "iopub.status.idle": "2023-06-19T11:34:50.242471Z",
     "shell.execute_reply": "2023-06-19T11:34:50.240929Z"
    },
    "papermill": {
     "duration": 0.072132,
     "end_time": "2023-06-19T11:34:50.245499",
     "exception": false,
     "start_time": "2023-06-19T11:34:50.173367",
     "status": "completed"
    },
    "tags": []
   },
   "outputs": [],
   "source": [
    "from scipy.stats import skew\n",
    "num_feat = ['Age', 'RoomService', 'FoodCourt', 'ShoppingMall', 'Spa', 'VRDeck', 'TotalSpent']\n",
    "cat_feat = ['HomePlanet', 'CryoSleep', 'Destination', 'Cabin_s', 'Cabin_d', 'VIP', 'Group_Size', 'lucky_age', 'Money_spent']\n",
    "train_cat = df[cat_feat]\n",
    "train_num = df[num_feat]\n",
    "\n",
    "skewness = train_num.apply(lambda x: skew(x))\n",
    "skewness = skewness[abs(skewness) > 0.5] \n",
    "skewed_features = skewness.index\n",
    "train_num[skewed_features] = np.log1p(train_num[skewed_features])"
   ]
  },
  {
   "cell_type": "code",
   "execution_count": 205,
   "id": "4e45ea3d",
   "metadata": {
    "execution": {
     "iopub.execute_input": "2023-06-19T11:34:50.314049Z",
     "iopub.status.busy": "2023-06-19T11:34:50.312731Z",
     "iopub.status.idle": "2023-06-19T11:34:50.337456Z",
     "shell.execute_reply": "2023-06-19T11:34:50.336065Z"
    },
    "papermill": {
     "duration": 0.061691,
     "end_time": "2023-06-19T11:34:50.340220",
     "exception": false,
     "start_time": "2023-06-19T11:34:50.278529",
     "status": "completed"
    },
    "tags": []
   },
   "outputs": [],
   "source": [
    "train_cat = pd.get_dummies(train_cat)\n",
    "X = pd.concat([train_cat, train_num], axis=1) #объединяем категориальные и числовые пр-ки"
   ]
  },
  {
   "cell_type": "code",
   "execution_count": 206,
   "id": "72b6f6dc",
   "metadata": {},
   "outputs": [
    {
     "data": {
      "text/html": [
       "<div>\n",
       "<style scoped>\n",
       "    .dataframe tbody tr th:only-of-type {\n",
       "        vertical-align: middle;\n",
       "    }\n",
       "\n",
       "    .dataframe tbody tr th {\n",
       "        vertical-align: top;\n",
       "    }\n",
       "\n",
       "    .dataframe thead th {\n",
       "        text-align: right;\n",
       "    }\n",
       "</style>\n",
       "<table border=\"1\" class=\"dataframe\">\n",
       "  <thead>\n",
       "    <tr style=\"text-align: right;\">\n",
       "      <th></th>\n",
       "      <th>CryoSleep</th>\n",
       "      <th>VIP</th>\n",
       "      <th>Group_Size</th>\n",
       "      <th>Money_spent</th>\n",
       "      <th>HomePlanet_Earth</th>\n",
       "      <th>HomePlanet_Europa</th>\n",
       "      <th>HomePlanet_Mars</th>\n",
       "      <th>Destination_55 Cancri e</th>\n",
       "      <th>Destination_PSO J318.5-22</th>\n",
       "      <th>Destination_TRAPPIST-1e</th>\n",
       "      <th>...</th>\n",
       "      <th>Cabin_d_C</th>\n",
       "      <th>Cabin_d_D</th>\n",
       "      <th>Cabin_d_E</th>\n",
       "      <th>Cabin_d_F</th>\n",
       "      <th>Cabin_d_G</th>\n",
       "      <th>Cabin_d_T</th>\n",
       "      <th>lucky_age_4</th>\n",
       "      <th>lucky_age_2</th>\n",
       "      <th>lucky_age_1</th>\n",
       "      <th>lucky_age_3</th>\n",
       "    </tr>\n",
       "  </thead>\n",
       "  <tbody>\n",
       "    <tr>\n",
       "      <th>0</th>\n",
       "      <td>False</td>\n",
       "      <td>False</td>\n",
       "      <td>1</td>\n",
       "      <td>0.0</td>\n",
       "      <td>False</td>\n",
       "      <td>True</td>\n",
       "      <td>False</td>\n",
       "      <td>False</td>\n",
       "      <td>False</td>\n",
       "      <td>True</td>\n",
       "      <td>...</td>\n",
       "      <td>False</td>\n",
       "      <td>False</td>\n",
       "      <td>False</td>\n",
       "      <td>False</td>\n",
       "      <td>False</td>\n",
       "      <td>False</td>\n",
       "      <td>False</td>\n",
       "      <td>True</td>\n",
       "      <td>False</td>\n",
       "      <td>False</td>\n",
       "    </tr>\n",
       "    <tr>\n",
       "      <th>1</th>\n",
       "      <td>False</td>\n",
       "      <td>False</td>\n",
       "      <td>1</td>\n",
       "      <td>1.0</td>\n",
       "      <td>True</td>\n",
       "      <td>False</td>\n",
       "      <td>False</td>\n",
       "      <td>False</td>\n",
       "      <td>False</td>\n",
       "      <td>True</td>\n",
       "      <td>...</td>\n",
       "      <td>False</td>\n",
       "      <td>False</td>\n",
       "      <td>False</td>\n",
       "      <td>True</td>\n",
       "      <td>False</td>\n",
       "      <td>False</td>\n",
       "      <td>False</td>\n",
       "      <td>True</td>\n",
       "      <td>False</td>\n",
       "      <td>False</td>\n",
       "    </tr>\n",
       "    <tr>\n",
       "      <th>2</th>\n",
       "      <td>False</td>\n",
       "      <td>True</td>\n",
       "      <td>2</td>\n",
       "      <td>1.0</td>\n",
       "      <td>False</td>\n",
       "      <td>True</td>\n",
       "      <td>False</td>\n",
       "      <td>False</td>\n",
       "      <td>False</td>\n",
       "      <td>True</td>\n",
       "      <td>...</td>\n",
       "      <td>False</td>\n",
       "      <td>False</td>\n",
       "      <td>False</td>\n",
       "      <td>False</td>\n",
       "      <td>False</td>\n",
       "      <td>True</td>\n",
       "      <td>False</td>\n",
       "      <td>False</td>\n",
       "      <td>False</td>\n",
       "      <td>True</td>\n",
       "    </tr>\n",
       "    <tr>\n",
       "      <th>3</th>\n",
       "      <td>False</td>\n",
       "      <td>False</td>\n",
       "      <td>2</td>\n",
       "      <td>1.0</td>\n",
       "      <td>False</td>\n",
       "      <td>True</td>\n",
       "      <td>False</td>\n",
       "      <td>False</td>\n",
       "      <td>False</td>\n",
       "      <td>True</td>\n",
       "      <td>...</td>\n",
       "      <td>False</td>\n",
       "      <td>False</td>\n",
       "      <td>False</td>\n",
       "      <td>False</td>\n",
       "      <td>False</td>\n",
       "      <td>True</td>\n",
       "      <td>False</td>\n",
       "      <td>True</td>\n",
       "      <td>False</td>\n",
       "      <td>False</td>\n",
       "    </tr>\n",
       "    <tr>\n",
       "      <th>4</th>\n",
       "      <td>False</td>\n",
       "      <td>False</td>\n",
       "      <td>1</td>\n",
       "      <td>1.0</td>\n",
       "      <td>True</td>\n",
       "      <td>False</td>\n",
       "      <td>False</td>\n",
       "      <td>False</td>\n",
       "      <td>False</td>\n",
       "      <td>True</td>\n",
       "      <td>...</td>\n",
       "      <td>False</td>\n",
       "      <td>False</td>\n",
       "      <td>False</td>\n",
       "      <td>True</td>\n",
       "      <td>False</td>\n",
       "      <td>False</td>\n",
       "      <td>True</td>\n",
       "      <td>False</td>\n",
       "      <td>False</td>\n",
       "      <td>False</td>\n",
       "    </tr>\n",
       "    <tr>\n",
       "      <th>...</th>\n",
       "      <td>...</td>\n",
       "      <td>...</td>\n",
       "      <td>...</td>\n",
       "      <td>...</td>\n",
       "      <td>...</td>\n",
       "      <td>...</td>\n",
       "      <td>...</td>\n",
       "      <td>...</td>\n",
       "      <td>...</td>\n",
       "      <td>...</td>\n",
       "      <td>...</td>\n",
       "      <td>...</td>\n",
       "      <td>...</td>\n",
       "      <td>...</td>\n",
       "      <td>...</td>\n",
       "      <td>...</td>\n",
       "      <td>...</td>\n",
       "      <td>...</td>\n",
       "      <td>...</td>\n",
       "      <td>...</td>\n",
       "      <td>...</td>\n",
       "    </tr>\n",
       "    <tr>\n",
       "      <th>12965</th>\n",
       "      <td>True</td>\n",
       "      <td>False</td>\n",
       "      <td>2</td>\n",
       "      <td>0.0</td>\n",
       "      <td>True</td>\n",
       "      <td>False</td>\n",
       "      <td>False</td>\n",
       "      <td>False</td>\n",
       "      <td>False</td>\n",
       "      <td>True</td>\n",
       "      <td>...</td>\n",
       "      <td>False</td>\n",
       "      <td>False</td>\n",
       "      <td>False</td>\n",
       "      <td>False</td>\n",
       "      <td>True</td>\n",
       "      <td>False</td>\n",
       "      <td>False</td>\n",
       "      <td>True</td>\n",
       "      <td>False</td>\n",
       "      <td>False</td>\n",
       "    </tr>\n",
       "    <tr>\n",
       "      <th>12966</th>\n",
       "      <td>False</td>\n",
       "      <td>False</td>\n",
       "      <td>1</td>\n",
       "      <td>1.0</td>\n",
       "      <td>True</td>\n",
       "      <td>False</td>\n",
       "      <td>False</td>\n",
       "      <td>False</td>\n",
       "      <td>False</td>\n",
       "      <td>True</td>\n",
       "      <td>...</td>\n",
       "      <td>False</td>\n",
       "      <td>False</td>\n",
       "      <td>False</td>\n",
       "      <td>True</td>\n",
       "      <td>False</td>\n",
       "      <td>False</td>\n",
       "      <td>False</td>\n",
       "      <td>True</td>\n",
       "      <td>False</td>\n",
       "      <td>False</td>\n",
       "    </tr>\n",
       "    <tr>\n",
       "      <th>12967</th>\n",
       "      <td>True</td>\n",
       "      <td>False</td>\n",
       "      <td>1</td>\n",
       "      <td>0.0</td>\n",
       "      <td>False</td>\n",
       "      <td>False</td>\n",
       "      <td>True</td>\n",
       "      <td>True</td>\n",
       "      <td>False</td>\n",
       "      <td>False</td>\n",
       "      <td>...</td>\n",
       "      <td>False</td>\n",
       "      <td>True</td>\n",
       "      <td>False</td>\n",
       "      <td>False</td>\n",
       "      <td>False</td>\n",
       "      <td>False</td>\n",
       "      <td>False</td>\n",
       "      <td>True</td>\n",
       "      <td>False</td>\n",
       "      <td>False</td>\n",
       "    </tr>\n",
       "    <tr>\n",
       "      <th>12968</th>\n",
       "      <td>False</td>\n",
       "      <td>False</td>\n",
       "      <td>1</td>\n",
       "      <td>1.0</td>\n",
       "      <td>False</td>\n",
       "      <td>True</td>\n",
       "      <td>False</td>\n",
       "      <td>False</td>\n",
       "      <td>False</td>\n",
       "      <td>True</td>\n",
       "      <td>...</td>\n",
       "      <td>False</td>\n",
       "      <td>True</td>\n",
       "      <td>False</td>\n",
       "      <td>False</td>\n",
       "      <td>False</td>\n",
       "      <td>False</td>\n",
       "      <td>False</td>\n",
       "      <td>True</td>\n",
       "      <td>False</td>\n",
       "      <td>False</td>\n",
       "    </tr>\n",
       "    <tr>\n",
       "      <th>12969</th>\n",
       "      <td>True</td>\n",
       "      <td>False</td>\n",
       "      <td>1</td>\n",
       "      <td>0.0</td>\n",
       "      <td>True</td>\n",
       "      <td>False</td>\n",
       "      <td>False</td>\n",
       "      <td>False</td>\n",
       "      <td>True</td>\n",
       "      <td>False</td>\n",
       "      <td>...</td>\n",
       "      <td>False</td>\n",
       "      <td>False</td>\n",
       "      <td>False</td>\n",
       "      <td>False</td>\n",
       "      <td>True</td>\n",
       "      <td>False</td>\n",
       "      <td>False</td>\n",
       "      <td>True</td>\n",
       "      <td>False</td>\n",
       "      <td>False</td>\n",
       "    </tr>\n",
       "  </tbody>\n",
       "</table>\n",
       "<p>12970 rows × 23 columns</p>\n",
       "</div>"
      ],
      "text/plain": [
       "       CryoSleep    VIP  Group_Size  Money_spent  HomePlanet_Earth  \\\n",
       "0          False  False           1          0.0             False   \n",
       "1          False  False           1          1.0              True   \n",
       "2          False   True           2          1.0             False   \n",
       "3          False  False           2          1.0             False   \n",
       "4          False  False           1          1.0              True   \n",
       "...          ...    ...         ...          ...               ...   \n",
       "12965       True  False           2          0.0              True   \n",
       "12966      False  False           1          1.0              True   \n",
       "12967       True  False           1          0.0             False   \n",
       "12968      False  False           1          1.0             False   \n",
       "12969       True  False           1          0.0              True   \n",
       "\n",
       "       HomePlanet_Europa  HomePlanet_Mars  Destination_55 Cancri e  \\\n",
       "0                   True            False                    False   \n",
       "1                  False            False                    False   \n",
       "2                   True            False                    False   \n",
       "3                   True            False                    False   \n",
       "4                  False            False                    False   \n",
       "...                  ...              ...                      ...   \n",
       "12965              False            False                    False   \n",
       "12966              False            False                    False   \n",
       "12967              False             True                     True   \n",
       "12968               True            False                    False   \n",
       "12969              False            False                    False   \n",
       "\n",
       "       Destination_PSO J318.5-22  Destination_TRAPPIST-1e  ...  Cabin_d_C  \\\n",
       "0                          False                     True  ...      False   \n",
       "1                          False                     True  ...      False   \n",
       "2                          False                     True  ...      False   \n",
       "3                          False                     True  ...      False   \n",
       "4                          False                     True  ...      False   \n",
       "...                          ...                      ...  ...        ...   \n",
       "12965                      False                     True  ...      False   \n",
       "12966                      False                     True  ...      False   \n",
       "12967                      False                    False  ...      False   \n",
       "12968                      False                     True  ...      False   \n",
       "12969                       True                    False  ...      False   \n",
       "\n",
       "       Cabin_d_D  Cabin_d_E  Cabin_d_F  Cabin_d_G  Cabin_d_T  lucky_age_4  \\\n",
       "0          False      False      False      False      False        False   \n",
       "1          False      False       True      False      False        False   \n",
       "2          False      False      False      False       True        False   \n",
       "3          False      False      False      False       True        False   \n",
       "4          False      False       True      False      False         True   \n",
       "...          ...        ...        ...        ...        ...          ...   \n",
       "12965      False      False      False       True      False        False   \n",
       "12966      False      False       True      False      False        False   \n",
       "12967       True      False      False      False      False        False   \n",
       "12968       True      False      False      False      False        False   \n",
       "12969      False      False      False       True      False        False   \n",
       "\n",
       "       lucky_age_2  lucky_age_1  lucky_age_3  \n",
       "0             True        False        False  \n",
       "1             True        False        False  \n",
       "2            False        False         True  \n",
       "3             True        False        False  \n",
       "4            False        False        False  \n",
       "...            ...          ...          ...  \n",
       "12965         True        False        False  \n",
       "12966         True        False        False  \n",
       "12967         True        False        False  \n",
       "12968         True        False        False  \n",
       "12969         True        False        False  \n",
       "\n",
       "[12970 rows x 23 columns]"
      ]
     },
     "execution_count": 206,
     "metadata": {},
     "output_type": "execute_result"
    }
   ],
   "source": [
    "train_cat"
   ]
  },
  {
   "cell_type": "code",
   "execution_count": 207,
   "id": "5acfb67f",
   "metadata": {
    "execution": {
     "iopub.execute_input": "2023-06-19T11:34:50.408788Z",
     "iopub.status.busy": "2023-06-19T11:34:50.408320Z",
     "iopub.status.idle": "2023-06-19T11:34:50.417784Z",
     "shell.execute_reply": "2023-06-19T11:34:50.416558Z"
    },
    "papermill": {
     "duration": 0.047802,
     "end_time": "2023-06-19T11:34:50.420453",
     "exception": false,
     "start_time": "2023-06-19T11:34:50.372651",
     "status": "completed"
    },
    "tags": []
   },
   "outputs": [],
   "source": [
    "X_train = X[:train_max].copy() \n",
    "X_test = X[train_max:].copy()\n",
    "y_train = train_data['Transported']"
   ]
  },
  {
   "cell_type": "markdown",
   "id": "bd338068",
   "metadata": {
    "papermill": {
     "duration": 0.032935,
     "end_time": "2023-06-19T11:34:50.554086",
     "exception": false,
     "start_time": "2023-06-19T11:34:50.521151",
     "status": "completed"
    },
    "tags": []
   },
   "source": [
    "## Модель"
   ]
  },
  {
   "cell_type": "markdown",
   "id": "cbb2a117",
   "metadata": {},
   "source": [
    "Я не стал подбирать параметры для катбуста и метрику использовал по умолчанию accuracy, т.к. у нас задачи бинарной классификации"
   ]
  },
  {
   "cell_type": "code",
   "execution_count": 210,
   "id": "101cb677",
   "metadata": {},
   "outputs": [],
   "source": [
    "from catboost import CatBoostClassifier\n",
    "from sklearn.preprocessing import StandardScaler, MinMaxScaler, MaxAbsScaler, RobustScaler, Normalizer\n",
    "from sklearn.model_selection import train_test_split"
   ]
  },
  {
   "cell_type": "code",
   "execution_count": 213,
   "id": "295ef978",
   "metadata": {
    "execution": {
     "iopub.execute_input": "2023-06-19T11:34:53.475513Z",
     "iopub.status.busy": "2023-06-19T11:34:53.475052Z",
     "iopub.status.idle": "2023-06-19T11:34:53.488204Z",
     "shell.execute_reply": "2023-06-19T11:34:53.486848Z"
    },
    "papermill": {
     "duration": 0.05042,
     "end_time": "2023-06-19T11:34:53.491046",
     "exception": false,
     "start_time": "2023-06-19T11:34:53.440626",
     "status": "completed"
    },
    "tags": []
   },
   "outputs": [],
   "source": [
    "train_cat = pd.get_dummies(train_cat) \n",
    "X = pd.concat([train_cat, train_num], axis=1) \n",
    "X_test = X[train_max:].copy()\n",
    "X = X[:train_max].copy() \n",
    "y = train_data['Transported']"
   ]
  },
  {
   "cell_type": "code",
   "execution_count": 218,
   "id": "7078ef97",
   "metadata": {
    "execution": {
     "iopub.execute_input": "2023-06-19T11:34:53.560650Z",
     "iopub.status.busy": "2023-06-19T11:34:53.559884Z",
     "iopub.status.idle": "2023-06-19T11:34:53.573837Z",
     "shell.execute_reply": "2023-06-19T11:34:53.572443Z"
    },
    "papermill": {
     "duration": 0.05232,
     "end_time": "2023-06-19T11:34:53.576710",
     "exception": false,
     "start_time": "2023-06-19T11:34:53.524390",
     "status": "completed"
    },
    "tags": []
   },
   "outputs": [],
   "source": [
    "y_num = {False : 0, True :1}\n",
    "y = y.replace(y_num)"
   ]
  },
  {
   "cell_type": "code",
   "execution_count": 221,
   "id": "88a4dff2",
   "metadata": {
    "execution": {
     "iopub.execute_input": "2023-06-19T11:34:53.645432Z",
     "iopub.status.busy": "2023-06-19T11:34:53.644995Z",
     "iopub.status.idle": "2023-06-19T11:34:53.697941Z",
     "shell.execute_reply": "2023-06-19T11:34:53.696644Z"
    },
    "papermill": {
     "duration": 0.090432,
     "end_time": "2023-06-19T11:34:53.700804",
     "exception": false,
     "start_time": "2023-06-19T11:34:53.610372",
     "status": "completed"
    },
    "tags": []
   },
   "outputs": [
    {
     "data": {
      "text/plain": [
       "array([[ 1.        ,  0.        ,  0.        , ...,  0.        ,\n",
       "         0.        , -0.90324769],\n",
       "       [ 0.        ,  0.        ,  0.        , ...,  1.91784968,\n",
       "         0.        ,  0.18691499],\n",
       "       [ 1.        ,  0.        ,  0.        , ...,  0.        ,\n",
       "         0.        , -0.90324769],\n",
       "       ...,\n",
       "       [ 1.        ,  0.        ,  0.        , ...,  0.        ,\n",
       "         0.        , -0.90324769],\n",
       "       [ 0.        ,  0.        ,  0.        , ...,  0.        ,\n",
       "         1.6005764 ,  0.20379234],\n",
       "       [ 1.        ,  0.        ,  0.        , ...,  0.        ,\n",
       "         0.        , -0.90324769]])"
      ]
     },
     "execution_count": 221,
     "metadata": {},
     "output_type": "execute_result"
    }
   ],
   "source": [
    "scl = RobustScaler()\n",
    "scl.fit(X)\n",
    "scl.transform(X)\n",
    "scl.transform(X_test)"
   ]
  },
  {
   "cell_type": "code",
   "execution_count": 224,
   "id": "17373710",
   "metadata": {
    "execution": {
     "iopub.execute_input": "2023-06-19T11:34:53.770379Z",
     "iopub.status.busy": "2023-06-19T11:34:53.769905Z",
     "iopub.status.idle": "2023-06-19T11:34:53.782594Z",
     "shell.execute_reply": "2023-06-19T11:34:53.781198Z"
    },
    "papermill": {
     "duration": 0.051369,
     "end_time": "2023-06-19T11:34:53.785634",
     "exception": false,
     "start_time": "2023-06-19T11:34:53.734265",
     "status": "completed"
    },
    "tags": []
   },
   "outputs": [],
   "source": [
    "X_train, X_val, y_train, y_val = train_test_split(X, y, train_size = 0.85, random_state=42)"
   ]
  },
  {
   "cell_type": "code",
   "execution_count": null,
   "id": "8088776a",
   "metadata": {},
   "outputs": [],
   "source": []
  },
  {
   "cell_type": "code",
   "execution_count": 227,
   "id": "a9de59da",
   "metadata": {},
   "outputs": [
    {
     "data": {
      "text/plain": [
       "<catboost.core.CatBoostClassifier at 0x2268fa48d30>"
      ]
     },
     "execution_count": 227,
     "metadata": {},
     "output_type": "execute_result"
    }
   ],
   "source": [
    "classifier = CatBoostClassifier()\n",
    "classifier.fit(X_train, y_train, eval_set=[(X_val, y_val)], early_stopping_rounds=20, verbose=False)"
   ]
  },
  {
   "cell_type": "code",
   "execution_count": 228,
   "id": "af555dec",
   "metadata": {},
   "outputs": [
    {
     "data": {
      "text/plain": [
       "0.8489646772228989"
      ]
     },
     "execution_count": 228,
     "metadata": {},
     "output_type": "execute_result"
    }
   ],
   "source": [
    "classifier.score(X_train,y_train)"
   ]
  },
  {
   "cell_type": "code",
   "execution_count": 229,
   "id": "c693632c",
   "metadata": {},
   "outputs": [],
   "source": [
    "classifier_pr=classifier.predict(X_test)\n",
    "\n"
   ]
  },
  {
   "cell_type": "code",
   "execution_count": 149,
   "id": "667abf3d",
   "metadata": {
    "execution": {
     "iopub.execute_input": "2023-06-19T11:37:17.069537Z",
     "iopub.status.busy": "2023-06-19T11:37:17.069129Z",
     "iopub.status.idle": "2023-06-19T11:37:17.095125Z",
     "shell.execute_reply": "2023-06-19T11:37:17.093659Z"
    },
    "papermill": {
     "duration": 0.069299,
     "end_time": "2023-06-19T11:37:17.098127",
     "exception": false,
     "start_time": "2023-06-19T11:37:17.028828",
     "status": "completed"
    },
    "tags": []
   },
   "outputs": [
    {
     "data": {
      "text/plain": [
       "[1,\n",
       " 0,\n",
       " 1,\n",
       " 1,\n",
       " 1,\n",
       " 1,\n",
       " 1,\n",
       " 1,\n",
       " 1,\n",
       " 1,\n",
       " 0,\n",
       " 0,\n",
       " 1,\n",
       " 1,\n",
       " 0,\n",
       " 0,\n",
       " 0,\n",
       " 1,\n",
       " 1,\n",
       " 0,\n",
       " 1,\n",
       " 0,\n",
       " 1,\n",
       " 1,\n",
       " 0,\n",
       " 0,\n",
       " 1,\n",
       " 1,\n",
       " 0,\n",
       " 1,\n",
       " 1,\n",
       " 0,\n",
       " 1,\n",
       " 0,\n",
       " 0,\n",
       " 0,\n",
       " 1,\n",
       " 1,\n",
       " 1,\n",
       " 0,\n",
       " 1,\n",
       " 0,\n",
       " 1,\n",
       " 1,\n",
       " 0,\n",
       " 1,\n",
       " 0,\n",
       " 0,\n",
       " 1,\n",
       " 0,\n",
       " 1,\n",
       " 1,\n",
       " 0,\n",
       " 1,\n",
       " 1,\n",
       " 1,\n",
       " 0,\n",
       " 1,\n",
       " 1,\n",
       " 0,\n",
       " 1,\n",
       " 1,\n",
       " 0,\n",
       " 1,\n",
       " 1,\n",
       " 0,\n",
       " 1,\n",
       " 0,\n",
       " 1,\n",
       " 0,\n",
       " 0,\n",
       " 1,\n",
       " 0,\n",
       " 0,\n",
       " 1,\n",
       " 1,\n",
       " 1,\n",
       " 1,\n",
       " 0,\n",
       " 1,\n",
       " 1,\n",
       " 0,\n",
       " 0,\n",
       " 0,\n",
       " 0,\n",
       " 1,\n",
       " 1,\n",
       " 0,\n",
       " 1,\n",
       " 1,\n",
       " 0,\n",
       " 0,\n",
       " 0,\n",
       " 0,\n",
       " 0,\n",
       " 0,\n",
       " 1,\n",
       " 0,\n",
       " 1,\n",
       " 1,\n",
       " 1,\n",
       " 1,\n",
       " 1,\n",
       " 0,\n",
       " 1,\n",
       " 0,\n",
       " 0,\n",
       " 1,\n",
       " 0,\n",
       " 1,\n",
       " 1,\n",
       " 0,\n",
       " 1,\n",
       " 1,\n",
       " 0,\n",
       " 1,\n",
       " 1,\n",
       " 0,\n",
       " 0,\n",
       " 0,\n",
       " 0,\n",
       " 0,\n",
       " 0,\n",
       " 0,\n",
       " 1,\n",
       " 1,\n",
       " 0,\n",
       " 0,\n",
       " 1,\n",
       " 0,\n",
       " 1,\n",
       " 0,\n",
       " 1,\n",
       " 1,\n",
       " 0,\n",
       " 1,\n",
       " 0,\n",
       " 0,\n",
       " 0,\n",
       " 0,\n",
       " 1,\n",
       " 0,\n",
       " 1,\n",
       " 0,\n",
       " 1,\n",
       " 0,\n",
       " 1,\n",
       " 1,\n",
       " 1,\n",
       " 1,\n",
       " 1,\n",
       " 1,\n",
       " 0,\n",
       " 0,\n",
       " 0,\n",
       " 0,\n",
       " 1,\n",
       " 1,\n",
       " 0,\n",
       " 0,\n",
       " 0,\n",
       " 1,\n",
       " 1,\n",
       " 1,\n",
       " 0,\n",
       " 0,\n",
       " 1,\n",
       " 0,\n",
       " 1,\n",
       " 0,\n",
       " 0,\n",
       " 1,\n",
       " 1,\n",
       " 1,\n",
       " 1,\n",
       " 1,\n",
       " 0,\n",
       " 1,\n",
       " 1,\n",
       " 1,\n",
       " 0,\n",
       " 1,\n",
       " 0,\n",
       " 0,\n",
       " 0,\n",
       " 0,\n",
       " 1,\n",
       " 0,\n",
       " 1,\n",
       " 1,\n",
       " 1,\n",
       " 1,\n",
       " 0,\n",
       " 0,\n",
       " 0,\n",
       " 0,\n",
       " 0,\n",
       " 1,\n",
       " 1,\n",
       " 0,\n",
       " 1,\n",
       " 0,\n",
       " 0,\n",
       " 0,\n",
       " 0,\n",
       " 0,\n",
       " 0,\n",
       " 1,\n",
       " 0,\n",
       " 1,\n",
       " 1,\n",
       " 1,\n",
       " 1,\n",
       " 1,\n",
       " 1,\n",
       " 0,\n",
       " 0,\n",
       " 1,\n",
       " 1,\n",
       " 1,\n",
       " 1,\n",
       " 1,\n",
       " 1,\n",
       " 0,\n",
       " 1,\n",
       " 0,\n",
       " 0,\n",
       " 1,\n",
       " 1,\n",
       " 0,\n",
       " 1,\n",
       " 1,\n",
       " 1,\n",
       " 1,\n",
       " 0,\n",
       " 1,\n",
       " 1,\n",
       " 1,\n",
       " 1,\n",
       " 0,\n",
       " 0,\n",
       " 1,\n",
       " 0,\n",
       " 1,\n",
       " 1,\n",
       " 1,\n",
       " 0,\n",
       " 0,\n",
       " 1,\n",
       " 0,\n",
       " 1,\n",
       " 1,\n",
       " 0,\n",
       " 0,\n",
       " 1,\n",
       " 1,\n",
       " 1,\n",
       " 0,\n",
       " 1,\n",
       " 1,\n",
       " 1,\n",
       " 1,\n",
       " 1,\n",
       " 0,\n",
       " 1,\n",
       " 1,\n",
       " 1,\n",
       " 0,\n",
       " 0,\n",
       " 1,\n",
       " 1,\n",
       " 0,\n",
       " 0,\n",
       " 1,\n",
       " 1,\n",
       " 1,\n",
       " 0,\n",
       " 0,\n",
       " 0,\n",
       " 1,\n",
       " 1,\n",
       " 0,\n",
       " 0,\n",
       " 1,\n",
       " 1,\n",
       " 1,\n",
       " 1,\n",
       " 1,\n",
       " 1,\n",
       " 1,\n",
       " 1,\n",
       " 0,\n",
       " 1,\n",
       " 1,\n",
       " 1,\n",
       " 1,\n",
       " 0,\n",
       " 0,\n",
       " 1,\n",
       " 1,\n",
       " 1,\n",
       " 0,\n",
       " 1,\n",
       " 0,\n",
       " 1,\n",
       " 1,\n",
       " 0,\n",
       " 1,\n",
       " 1,\n",
       " 0,\n",
       " 0,\n",
       " 0,\n",
       " 1,\n",
       " 0,\n",
       " 0,\n",
       " 1,\n",
       " 1,\n",
       " 1,\n",
       " 1,\n",
       " 0,\n",
       " 0,\n",
       " 1,\n",
       " 1,\n",
       " 1,\n",
       " 0,\n",
       " 0,\n",
       " 1,\n",
       " 0,\n",
       " 1,\n",
       " 1,\n",
       " 0,\n",
       " 0,\n",
       " 1,\n",
       " 1,\n",
       " 0,\n",
       " 0,\n",
       " 1,\n",
       " 0,\n",
       " 0,\n",
       " 1,\n",
       " 1,\n",
       " 0,\n",
       " 0,\n",
       " 0,\n",
       " 1,\n",
       " 0,\n",
       " 1,\n",
       " 1,\n",
       " 1,\n",
       " 0,\n",
       " 0,\n",
       " 1,\n",
       " 0,\n",
       " 1,\n",
       " 1,\n",
       " 1,\n",
       " 1,\n",
       " 1,\n",
       " 1,\n",
       " 0,\n",
       " 1,\n",
       " 0,\n",
       " 1,\n",
       " 0,\n",
       " 1,\n",
       " 0,\n",
       " 1,\n",
       " 1,\n",
       " 0,\n",
       " 1,\n",
       " 1,\n",
       " 1,\n",
       " 1,\n",
       " 0,\n",
       " 1,\n",
       " 1,\n",
       " 1,\n",
       " 1,\n",
       " 1,\n",
       " 0,\n",
       " 1,\n",
       " 0,\n",
       " 1,\n",
       " 1,\n",
       " 1,\n",
       " 0,\n",
       " 0,\n",
       " 1,\n",
       " 0,\n",
       " 1,\n",
       " 0,\n",
       " 1,\n",
       " 1,\n",
       " 0,\n",
       " 1,\n",
       " 1,\n",
       " 0,\n",
       " 0,\n",
       " 0,\n",
       " 0,\n",
       " 0,\n",
       " 1,\n",
       " 1,\n",
       " 0,\n",
       " 1,\n",
       " 1,\n",
       " 1,\n",
       " 0,\n",
       " 1,\n",
       " 0,\n",
       " 1,\n",
       " 1,\n",
       " 1,\n",
       " 0,\n",
       " 1,\n",
       " 1,\n",
       " 1,\n",
       " 0,\n",
       " 1,\n",
       " 1,\n",
       " 1,\n",
       " 0,\n",
       " 1,\n",
       " 0,\n",
       " 1,\n",
       " 1,\n",
       " 0,\n",
       " 0,\n",
       " 0,\n",
       " 0,\n",
       " 1,\n",
       " 1,\n",
       " 1,\n",
       " 1,\n",
       " 1,\n",
       " 0,\n",
       " 0,\n",
       " 1,\n",
       " 1,\n",
       " 1,\n",
       " 1,\n",
       " 0,\n",
       " 1,\n",
       " 1,\n",
       " 0,\n",
       " 0,\n",
       " 0,\n",
       " 0,\n",
       " 0,\n",
       " 0,\n",
       " 0,\n",
       " 0,\n",
       " 1,\n",
       " 1,\n",
       " 0,\n",
       " 0,\n",
       " 0,\n",
       " 0,\n",
       " 1,\n",
       " 0,\n",
       " 0,\n",
       " 0,\n",
       " 1,\n",
       " 1,\n",
       " 0,\n",
       " 0,\n",
       " 0,\n",
       " 1,\n",
       " 0,\n",
       " 0,\n",
       " 1,\n",
       " 0,\n",
       " 1,\n",
       " 0,\n",
       " 1,\n",
       " 1,\n",
       " 0,\n",
       " 0,\n",
       " 0,\n",
       " 1,\n",
       " 0,\n",
       " 0,\n",
       " 1,\n",
       " 1,\n",
       " 1,\n",
       " 0,\n",
       " 0,\n",
       " 1,\n",
       " 1,\n",
       " 0,\n",
       " 1,\n",
       " 1,\n",
       " 1,\n",
       " 0,\n",
       " 1,\n",
       " 0,\n",
       " 1,\n",
       " 1,\n",
       " 1,\n",
       " 0,\n",
       " 1,\n",
       " 0,\n",
       " 0,\n",
       " 0,\n",
       " 1,\n",
       " 1,\n",
       " 0,\n",
       " 1,\n",
       " 1,\n",
       " 0,\n",
       " 1,\n",
       " 1,\n",
       " 0,\n",
       " 1,\n",
       " 0,\n",
       " 1,\n",
       " 0,\n",
       " 1,\n",
       " 0,\n",
       " 1,\n",
       " 0,\n",
       " 0,\n",
       " 1,\n",
       " 1,\n",
       " 1,\n",
       " 0,\n",
       " 1,\n",
       " 1,\n",
       " 1,\n",
       " 0,\n",
       " 0,\n",
       " 1,\n",
       " 1,\n",
       " 1,\n",
       " 1,\n",
       " 1,\n",
       " 0,\n",
       " 0,\n",
       " 1,\n",
       " 1,\n",
       " 1,\n",
       " 1,\n",
       " 1,\n",
       " 0,\n",
       " 1,\n",
       " 0,\n",
       " 1,\n",
       " 0,\n",
       " 0,\n",
       " 1,\n",
       " 1,\n",
       " 1,\n",
       " 1,\n",
       " 0,\n",
       " 0,\n",
       " 1,\n",
       " 0,\n",
       " 0,\n",
       " 1,\n",
       " 0,\n",
       " 1,\n",
       " 1,\n",
       " 1,\n",
       " 0,\n",
       " 0,\n",
       " 0,\n",
       " 1,\n",
       " 0,\n",
       " 0,\n",
       " 1,\n",
       " 0,\n",
       " 1,\n",
       " 1,\n",
       " 1,\n",
       " 0,\n",
       " 0,\n",
       " 0,\n",
       " 0,\n",
       " 1,\n",
       " 0,\n",
       " 1,\n",
       " 0,\n",
       " 0,\n",
       " 0,\n",
       " 1,\n",
       " 1,\n",
       " 1,\n",
       " 1,\n",
       " 0,\n",
       " 0,\n",
       " 1,\n",
       " 1,\n",
       " 0,\n",
       " 1,\n",
       " 1,\n",
       " 1,\n",
       " 1,\n",
       " 1,\n",
       " 1,\n",
       " 1,\n",
       " 0,\n",
       " 1,\n",
       " 1,\n",
       " 1,\n",
       " 0,\n",
       " 1,\n",
       " 0,\n",
       " 0,\n",
       " 1,\n",
       " 1,\n",
       " 1,\n",
       " 1,\n",
       " 1,\n",
       " 0,\n",
       " 1,\n",
       " 0,\n",
       " 1,\n",
       " 1,\n",
       " 0,\n",
       " 0,\n",
       " 0,\n",
       " 0,\n",
       " 0,\n",
       " 0,\n",
       " 1,\n",
       " 1,\n",
       " 1,\n",
       " 1,\n",
       " 1,\n",
       " 0,\n",
       " 1,\n",
       " 1,\n",
       " 0,\n",
       " 1,\n",
       " 1,\n",
       " 0,\n",
       " 0,\n",
       " 1,\n",
       " 1,\n",
       " 1,\n",
       " 1,\n",
       " 1,\n",
       " 0,\n",
       " 0,\n",
       " 1,\n",
       " 0,\n",
       " 0,\n",
       " 1,\n",
       " 1,\n",
       " 1,\n",
       " 0,\n",
       " 1,\n",
       " 1,\n",
       " 0,\n",
       " 1,\n",
       " 0,\n",
       " 0,\n",
       " 0,\n",
       " 1,\n",
       " 1,\n",
       " 0,\n",
       " 0,\n",
       " 1,\n",
       " 1,\n",
       " 1,\n",
       " 1,\n",
       " 1,\n",
       " 1,\n",
       " 0,\n",
       " 0,\n",
       " 1,\n",
       " 0,\n",
       " 0,\n",
       " 0,\n",
       " 1,\n",
       " 1,\n",
       " 0,\n",
       " 1,\n",
       " 1,\n",
       " 1,\n",
       " 0,\n",
       " 1,\n",
       " 1,\n",
       " 0,\n",
       " 1,\n",
       " 0,\n",
       " 0,\n",
       " 0,\n",
       " 1,\n",
       " 1,\n",
       " 0,\n",
       " 1,\n",
       " 0,\n",
       " 0,\n",
       " 0,\n",
       " 0,\n",
       " 0,\n",
       " 1,\n",
       " 0,\n",
       " 0,\n",
       " 0,\n",
       " 0,\n",
       " 0,\n",
       " 0,\n",
       " 0,\n",
       " 0,\n",
       " 1,\n",
       " 0,\n",
       " 0,\n",
       " 0,\n",
       " 1,\n",
       " 0,\n",
       " 1,\n",
       " 1,\n",
       " 1,\n",
       " 1,\n",
       " 1,\n",
       " 0,\n",
       " 0,\n",
       " 0,\n",
       " 0,\n",
       " 1,\n",
       " 0,\n",
       " 1,\n",
       " 1,\n",
       " 1,\n",
       " 1,\n",
       " 1,\n",
       " 1,\n",
       " 0,\n",
       " 0,\n",
       " 0,\n",
       " 0,\n",
       " 1,\n",
       " 0,\n",
       " 1,\n",
       " 1,\n",
       " 0,\n",
       " 1,\n",
       " 1,\n",
       " 1,\n",
       " 0,\n",
       " 0,\n",
       " 0,\n",
       " 0,\n",
       " 1,\n",
       " 1,\n",
       " 1,\n",
       " 0,\n",
       " 0,\n",
       " 0,\n",
       " 0,\n",
       " 1,\n",
       " 1,\n",
       " 0,\n",
       " 0,\n",
       " 0,\n",
       " 1,\n",
       " 0,\n",
       " 0,\n",
       " 1,\n",
       " 1,\n",
       " 1,\n",
       " 0,\n",
       " 1,\n",
       " 0,\n",
       " 1,\n",
       " 1,\n",
       " 1,\n",
       " 1,\n",
       " 1,\n",
       " 1,\n",
       " 0,\n",
       " 0,\n",
       " 1,\n",
       " 1,\n",
       " 1,\n",
       " 1,\n",
       " 1,\n",
       " 0,\n",
       " 1,\n",
       " 1,\n",
       " 0,\n",
       " 0,\n",
       " 1,\n",
       " 1,\n",
       " 1,\n",
       " 0,\n",
       " 0,\n",
       " 1,\n",
       " 0,\n",
       " 1,\n",
       " 1,\n",
       " 0,\n",
       " 0,\n",
       " 0,\n",
       " 1,\n",
       " 1,\n",
       " 1,\n",
       " 1,\n",
       " 1,\n",
       " 1,\n",
       " 1,\n",
       " 0,\n",
       " 1,\n",
       " 0,\n",
       " 0,\n",
       " 1,\n",
       " 1,\n",
       " 0,\n",
       " 0,\n",
       " 1,\n",
       " 1,\n",
       " 0,\n",
       " 1,\n",
       " 0,\n",
       " 0,\n",
       " 0,\n",
       " 1,\n",
       " 0,\n",
       " 0,\n",
       " 0,\n",
       " 1,\n",
       " 1,\n",
       " 1,\n",
       " 1,\n",
       " 1,\n",
       " 1,\n",
       " 1,\n",
       " 0,\n",
       " 0,\n",
       " 0,\n",
       " 0,\n",
       " 0,\n",
       " 0,\n",
       " 0,\n",
       " 1,\n",
       " 0,\n",
       " 1,\n",
       " 0,\n",
       " 0,\n",
       " 1,\n",
       " 1,\n",
       " 1,\n",
       " 0,\n",
       " 0,\n",
       " 0,\n",
       " 1,\n",
       " 1,\n",
       " 0,\n",
       " 0,\n",
       " 1,\n",
       " 1,\n",
       " 0,\n",
       " 0,\n",
       " 1,\n",
       " 0,\n",
       " 0,\n",
       " 0,\n",
       " 0,\n",
       " 0,\n",
       " 0,\n",
       " 0,\n",
       " 1,\n",
       " 1,\n",
       " 0,\n",
       " 1,\n",
       " 0,\n",
       " 0,\n",
       " 1,\n",
       " 0,\n",
       " 1,\n",
       " 0,\n",
       " 1,\n",
       " 1,\n",
       " 1,\n",
       " 0,\n",
       " 0,\n",
       " 0,\n",
       " 0,\n",
       " 0,\n",
       " 1,\n",
       " 0,\n",
       " 1,\n",
       " 1,\n",
       " 1,\n",
       " 1,\n",
       " 0,\n",
       " 1,\n",
       " 0,\n",
       " 0,\n",
       " 0,\n",
       " 1,\n",
       " 1,\n",
       " 1,\n",
       " 1,\n",
       " 1,\n",
       " 1,\n",
       " 0,\n",
       " 0,\n",
       " 1,\n",
       " 1,\n",
       " 0,\n",
       " 0,\n",
       " 0,\n",
       " 0,\n",
       " 1,\n",
       " 0,\n",
       " 1,\n",
       " 1,\n",
       " 0,\n",
       " 0,\n",
       " 1,\n",
       " 0,\n",
       " 1,\n",
       " 1,\n",
       " 0,\n",
       " 1,\n",
       " 0,\n",
       " 0,\n",
       " 1,\n",
       " 0,\n",
       " 1,\n",
       " 1,\n",
       " 1,\n",
       " 1,\n",
       " 1,\n",
       " 1,\n",
       " 0,\n",
       " 0,\n",
       " 1,\n",
       " 0,\n",
       " 0,\n",
       " 0,\n",
       " 0,\n",
       " 0,\n",
       " 0,\n",
       " 0,\n",
       " 0,\n",
       " 1,\n",
       " 0,\n",
       " 1,\n",
       " 0,\n",
       " 0,\n",
       " 0,\n",
       " 0,\n",
       " 1,\n",
       " 0,\n",
       " 0,\n",
       " 0,\n",
       " 0,\n",
       " 1,\n",
       " 1,\n",
       " 1,\n",
       " 1,\n",
       " 1,\n",
       " 0,\n",
       " 1,\n",
       " 1,\n",
       " 0,\n",
       " 1,\n",
       " 0,\n",
       " 1,\n",
       " 1,\n",
       " 0,\n",
       " 0,\n",
       " 0,\n",
       " 1,\n",
       " 1,\n",
       " 1,\n",
       " 1,\n",
       " 1,\n",
       " 1,\n",
       " 0,\n",
       " 0,\n",
       " 0,\n",
       " 0,\n",
       " 0,\n",
       " 1,\n",
       " 1,\n",
       " 1,\n",
       " 1,\n",
       " 1,\n",
       " 0,\n",
       " 1,\n",
       " 1,\n",
       " 1,\n",
       " 1,\n",
       " 1,\n",
       " 1,\n",
       " 0,\n",
       " 1,\n",
       " 0,\n",
       " 0,\n",
       " 0,\n",
       " 1,\n",
       " 0,\n",
       " 1,\n",
       " 1,\n",
       " 1,\n",
       " ...]"
      ]
     },
     "execution_count": 149,
     "metadata": {},
     "output_type": "execute_result"
    }
   ],
   "source": [
    "preds = classifier.predict(X_test)\n",
    "predictions = [pred for pred in preds]\n",
    "predictions"
   ]
  },
  {
   "cell_type": "code",
   "execution_count": 230,
   "id": "dcaadc44",
   "metadata": {
    "execution": {
     "iopub.execute_input": "2023-06-19T11:37:17.174585Z",
     "iopub.status.busy": "2023-06-19T11:37:17.174154Z",
     "iopub.status.idle": "2023-06-19T11:37:17.182004Z",
     "shell.execute_reply": "2023-06-19T11:37:17.180843Z"
    },
    "papermill": {
     "duration": 0.048853,
     "end_time": "2023-06-19T11:37:17.184372",
     "exception": false,
     "start_time": "2023-06-19T11:37:17.135519",
     "status": "completed"
    },
    "tags": []
   },
   "outputs": [],
   "source": [
    "for i, pred in enumerate(predictions):\n",
    "    if pred < 0.5:\n",
    "        predictions[i] = False\n",
    "    else:\n",
    "        predictions[i] = True"
   ]
  },
  {
   "cell_type": "code",
   "execution_count": 231,
   "id": "6b939a94",
   "metadata": {
    "execution": {
     "iopub.execute_input": "2023-06-19T11:37:17.259650Z",
     "iopub.status.busy": "2023-06-19T11:37:17.259221Z",
     "iopub.status.idle": "2023-06-19T11:37:17.266207Z",
     "shell.execute_reply": "2023-06-19T11:37:17.265006Z"
    },
    "papermill": {
     "duration": 0.048091,
     "end_time": "2023-06-19T11:37:17.268617",
     "exception": false,
     "start_time": "2023-06-19T11:37:17.220526",
     "status": "completed"
    },
    "tags": []
   },
   "outputs": [],
   "source": [
    "output = pd.DataFrame({'PassengerId': test_data['PassengerId'], 'Transported': predictions})"
   ]
  },
  {
   "cell_type": "code",
   "execution_count": 153,
   "id": "a9ce3014",
   "metadata": {
    "execution": {
     "iopub.execute_input": "2023-06-19T11:37:17.346752Z",
     "iopub.status.busy": "2023-06-19T11:37:17.345520Z",
     "iopub.status.idle": "2023-06-19T11:37:17.370707Z",
     "shell.execute_reply": "2023-06-19T11:37:17.369084Z"
    },
    "papermill": {
     "duration": 0.066316,
     "end_time": "2023-06-19T11:37:17.373302",
     "exception": false,
     "start_time": "2023-06-19T11:37:17.306986",
     "status": "completed"
    },
    "tags": []
   },
   "outputs": [],
   "source": [
    "output.to_csv('submission.csv', index=False)\n"
   ]
  },
  {
   "cell_type": "markdown",
   "id": "7da2b3ee",
   "metadata": {},
   "source": [
    "после загрузки решения на кагл Оценка: 0,80593"
   ]
  }
 ],
 "metadata": {
  "kernelspec": {
   "display_name": "Python 3 (ipykernel)",
   "language": "python",
   "name": "python3"
  },
  "language_info": {
   "codemirror_mode": {
    "name": "ipython",
    "version": 3
   },
   "file_extension": ".py",
   "mimetype": "text/x-python",
   "name": "python",
   "nbconvert_exporter": "python",
   "pygments_lexer": "ipython3",
   "version": "3.9.12"
  },
  "papermill": {
   "default_parameters": {},
   "duration": 221.98455,
   "end_time": "2023-06-19T11:37:18.911093",
   "environment_variables": {},
   "exception": null,
   "input_path": "__notebook__.ipynb",
   "output_path": "__notebook__.ipynb",
   "parameters": {},
   "start_time": "2023-06-19T11:33:36.926543",
   "version": "2.4.0"
  }
 },
 "nbformat": 4,
 "nbformat_minor": 5
}
